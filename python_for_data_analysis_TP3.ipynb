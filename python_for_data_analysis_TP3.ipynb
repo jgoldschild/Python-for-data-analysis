{
  "nbformat": 4,
  "nbformat_minor": 0,
  "metadata": {
    "colab": {
      "name": "python for data analysis TP3.ipynb",
      "provenance": [],
      "collapsed_sections": [],
      "toc_visible": true
    },
    "kernelspec": {
      "name": "python3",
      "display_name": "Python 3"
    }
  },
  "cells": [
    {
      "cell_type": "code",
      "metadata": {
        "id": "-lsX-0TCybmx",
        "outputId": "51dc0773-02b9-4c9d-9654-b1d373caa272",
        "colab": {
          "base_uri": "https://localhost:8080/"
        }
      },
      "source": [
        "pip install geopandas"
      ],
      "execution_count": 2,
      "outputs": [
        {
          "output_type": "stream",
          "text": [
            "Collecting geopandas\n",
            "\u001b[?25l  Downloading https://files.pythonhosted.org/packages/f7/a4/e66aafbefcbb717813bf3a355c8c4fc3ed04ea1dd7feb2920f2f4f868921/geopandas-0.8.1-py2.py3-none-any.whl (962kB)\n",
            "\u001b[K     |████████████████████████████████| 972kB 2.5MB/s \n",
            "\u001b[?25hRequirement already satisfied: pandas>=0.23.0 in /usr/local/lib/python3.6/dist-packages (from geopandas) (1.1.4)\n",
            "Collecting pyproj>=2.2.0\n",
            "\u001b[?25l  Downloading https://files.pythonhosted.org/packages/e4/ab/280e80a67cfc109d15428c0ec56391fc03a65857b7727cf4e6e6f99a4204/pyproj-3.0.0.post1-cp36-cp36m-manylinux2010_x86_64.whl (6.4MB)\n",
            "\u001b[K     |████████████████████████████████| 6.5MB 7.3MB/s \n",
            "\u001b[?25hCollecting fiona\n",
            "\u001b[?25l  Downloading https://files.pythonhosted.org/packages/36/8b/e8b2c11bed5373c8e98edb85ce891b09aa1f4210fd451d0fb3696b7695a2/Fiona-1.8.17-cp36-cp36m-manylinux1_x86_64.whl (14.8MB)\n",
            "\u001b[K     |████████████████████████████████| 14.8MB 243kB/s \n",
            "\u001b[?25hRequirement already satisfied: shapely in /usr/local/lib/python3.6/dist-packages (from geopandas) (1.7.1)\n",
            "Requirement already satisfied: pytz>=2017.2 in /usr/local/lib/python3.6/dist-packages (from pandas>=0.23.0->geopandas) (2018.9)\n",
            "Requirement already satisfied: python-dateutil>=2.7.3 in /usr/local/lib/python3.6/dist-packages (from pandas>=0.23.0->geopandas) (2.8.1)\n",
            "Requirement already satisfied: numpy>=1.15.4 in /usr/local/lib/python3.6/dist-packages (from pandas>=0.23.0->geopandas) (1.18.5)\n",
            "Requirement already satisfied: certifi in /usr/local/lib/python3.6/dist-packages (from pyproj>=2.2.0->geopandas) (2020.6.20)\n",
            "Collecting click-plugins>=1.0\n",
            "  Downloading https://files.pythonhosted.org/packages/e9/da/824b92d9942f4e472702488857914bdd50f73021efea15b4cad9aca8ecef/click_plugins-1.1.1-py2.py3-none-any.whl\n",
            "Collecting cligj>=0.5\n",
            "  Downloading https://files.pythonhosted.org/packages/ba/06/e3440b1f2dc802d35f329f299ba96153e9fcbfdef75e17f4b61f79430c6a/cligj-0.7.0-py3-none-any.whl\n",
            "Requirement already satisfied: six>=1.7 in /usr/local/lib/python3.6/dist-packages (from fiona->geopandas) (1.15.0)\n",
            "Collecting munch\n",
            "  Downloading https://files.pythonhosted.org/packages/cc/ab/85d8da5c9a45e072301beb37ad7f833cd344e04c817d97e0cc75681d248f/munch-2.5.0-py2.py3-none-any.whl\n",
            "Requirement already satisfied: click<8,>=4.0 in /usr/local/lib/python3.6/dist-packages (from fiona->geopandas) (7.1.2)\n",
            "Requirement already satisfied: attrs>=17 in /usr/local/lib/python3.6/dist-packages (from fiona->geopandas) (20.2.0)\n",
            "Installing collected packages: pyproj, click-plugins, cligj, munch, fiona, geopandas\n",
            "Successfully installed click-plugins-1.1.1 cligj-0.7.0 fiona-1.8.17 geopandas-0.8.1 munch-2.5.0 pyproj-3.0.0.post1\n"
          ],
          "name": "stdout"
        }
      ]
    },
    {
      "cell_type": "code",
      "metadata": {
        "id": "04PBMgppyuC5",
        "outputId": "0d45c68c-7d87-448b-9efd-5cf4f0f795f3",
        "colab": {
          "base_uri": "https://localhost:8080/",
          "height": 402
        }
      },
      "source": [
        "import geopandas as gpd\n",
        "map_df = gpd.read_file(\"/content/sample_data/departements-20140306-50m.shp\")\n",
        "map_df"
      ],
      "execution_count": 3,
      "outputs": [
        {
          "output_type": "execute_result",
          "data": {
            "text/html": [
              "<div>\n",
              "<style scoped>\n",
              "    .dataframe tbody tr th:only-of-type {\n",
              "        vertical-align: middle;\n",
              "    }\n",
              "\n",
              "    .dataframe tbody tr th {\n",
              "        vertical-align: top;\n",
              "    }\n",
              "\n",
              "    .dataframe thead th {\n",
              "        text-align: right;\n",
              "    }\n",
              "</style>\n",
              "<table border=\"1\" class=\"dataframe\">\n",
              "  <thead>\n",
              "    <tr style=\"text-align: right;\">\n",
              "      <th></th>\n",
              "      <th>code_insee</th>\n",
              "      <th>nom</th>\n",
              "      <th>nuts3</th>\n",
              "      <th>wikipedia</th>\n",
              "      <th>geometry</th>\n",
              "    </tr>\n",
              "  </thead>\n",
              "  <tbody>\n",
              "    <tr>\n",
              "      <th>0</th>\n",
              "      <td>01</td>\n",
              "      <td>Ain</td>\n",
              "      <td>FR711</td>\n",
              "      <td>b'fr:Ain (d\\xe9partement)'</td>\n",
              "      <td>POLYGON ((5.25559 45.78459, 5.23987 45.77758, ...</td>\n",
              "    </tr>\n",
              "    <tr>\n",
              "      <th>1</th>\n",
              "      <td>02</td>\n",
              "      <td>Aisne</td>\n",
              "      <td>FR221</td>\n",
              "      <td>b'fr:Aisne (d\\xe9partement)'</td>\n",
              "      <td>POLYGON ((3.48175 48.86640, 3.48647 48.85768, ...</td>\n",
              "    </tr>\n",
              "    <tr>\n",
              "      <th>2</th>\n",
              "      <td>03</td>\n",
              "      <td>Allier</td>\n",
              "      <td>FR721</td>\n",
              "      <td>b'fr:Allier (d\\xe9partement)'</td>\n",
              "      <td>POLYGON ((2.38613 46.33196, 2.38407 46.33112, ...</td>\n",
              "    </tr>\n",
              "    <tr>\n",
              "      <th>3</th>\n",
              "      <td>04</td>\n",
              "      <td>Alpes-de-Haute-Provence</td>\n",
              "      <td>FR821</td>\n",
              "      <td>fr:Alpes-de-Haute-Provence</td>\n",
              "      <td>POLYGON ((6.66579 43.83120, 6.67673 43.83178, ...</td>\n",
              "    </tr>\n",
              "    <tr>\n",
              "      <th>4</th>\n",
              "      <td>05</td>\n",
              "      <td>Hautes-Alpes</td>\n",
              "      <td>FR822</td>\n",
              "      <td>fr:Hautes-Alpes</td>\n",
              "      <td>POLYGON ((6.24158 44.44686, 6.24411 44.44693, ...</td>\n",
              "    </tr>\n",
              "    <tr>\n",
              "      <th>...</th>\n",
              "      <td>...</td>\n",
              "      <td>...</td>\n",
              "      <td>...</td>\n",
              "      <td>...</td>\n",
              "      <td>...</td>\n",
              "    </tr>\n",
              "    <tr>\n",
              "      <th>96</th>\n",
              "      <td>971</td>\n",
              "      <td>Guadeloupe</td>\n",
              "      <td>FR910</td>\n",
              "      <td>fr:Guadeloupe</td>\n",
              "      <td>MULTIPOLYGON (((-61.61403 15.83955, -61.61399 ...</td>\n",
              "    </tr>\n",
              "    <tr>\n",
              "      <th>97</th>\n",
              "      <td>972</td>\n",
              "      <td>Martinique</td>\n",
              "      <td>FR920</td>\n",
              "      <td>fr:Martinique</td>\n",
              "      <td>MULTIPOLYGON (((-60.86880 14.39091, -60.86747 ...</td>\n",
              "    </tr>\n",
              "    <tr>\n",
              "      <th>98</th>\n",
              "      <td>973</td>\n",
              "      <td>Guyane</td>\n",
              "      <td>FR930</td>\n",
              "      <td>fr:Guyane</td>\n",
              "      <td>MULTIPOLYGON (((-52.58463 5.28309, -52.58316 5...</td>\n",
              "    </tr>\n",
              "    <tr>\n",
              "      <th>99</th>\n",
              "      <td>974</td>\n",
              "      <td>b'La R\\xe9union'</td>\n",
              "      <td>FR940</td>\n",
              "      <td>b'fr:La R\\xe9union'</td>\n",
              "      <td>MULTIPOLYGON (((55.77886 -21.36291, 55.77889 -...</td>\n",
              "    </tr>\n",
              "    <tr>\n",
              "      <th>100</th>\n",
              "      <td>976</td>\n",
              "      <td>Mayotte</td>\n",
              "      <td>None</td>\n",
              "      <td>fr:Mayotte</td>\n",
              "      <td>MULTIPOLYGON (((45.13667 -13.00398, 45.13859 -...</td>\n",
              "    </tr>\n",
              "  </tbody>\n",
              "</table>\n",
              "<p>101 rows × 5 columns</p>\n",
              "</div>"
            ],
            "text/plain": [
              "    code_insee  ...                                           geometry\n",
              "0           01  ...  POLYGON ((5.25559 45.78459, 5.23987 45.77758, ...\n",
              "1           02  ...  POLYGON ((3.48175 48.86640, 3.48647 48.85768, ...\n",
              "2           03  ...  POLYGON ((2.38613 46.33196, 2.38407 46.33112, ...\n",
              "3           04  ...  POLYGON ((6.66579 43.83120, 6.67673 43.83178, ...\n",
              "4           05  ...  POLYGON ((6.24158 44.44686, 6.24411 44.44693, ...\n",
              "..         ...  ...                                                ...\n",
              "96         971  ...  MULTIPOLYGON (((-61.61403 15.83955, -61.61399 ...\n",
              "97         972  ...  MULTIPOLYGON (((-60.86880 14.39091, -60.86747 ...\n",
              "98         973  ...  MULTIPOLYGON (((-52.58463 5.28309, -52.58316 5...\n",
              "99         974  ...  MULTIPOLYGON (((55.77886 -21.36291, 55.77889 -...\n",
              "100        976  ...  MULTIPOLYGON (((45.13667 -13.00398, 45.13859 -...\n",
              "\n",
              "[101 rows x 5 columns]"
            ]
          },
          "metadata": {
            "tags": []
          },
          "execution_count": 3
        }
      ]
    },
    {
      "cell_type": "code",
      "metadata": {
        "id": "8M_slMEIyuIk",
        "outputId": "4c7bbfa6-c7c9-4b9d-c5a5-79e3cbc25144",
        "colab": {
          "base_uri": "https://localhost:8080/",
          "height": 278
        }
      },
      "source": [
        "import matplotlib.pyplot as plt\n",
        "%matplotlib inline\n",
        "map_df.plot()"
      ],
      "execution_count": 4,
      "outputs": [
        {
          "output_type": "execute_result",
          "data": {
            "text/plain": [
              "<matplotlib.axes._subplots.AxesSubplot at 0x7f880b888668>"
            ]
          },
          "metadata": {
            "tags": []
          },
          "execution_count": 4
        },
        {
          "output_type": "display_data",
          "data": {
            "image/png": "[encoded data removed]",
            "text/plain": [
              "<Figure size 432x288 with 1 Axes>"
            ]
          },
          "metadata": {
            "tags": [],
            "needs_background": "light"
          }
        }
      ]
    },
    {
      "cell_type": "code",
      "metadata": {
        "id": "oyExmseJ2JXu",
        "outputId": "08a5c5e1-dbf9-41a3-c8dc-ee91888b7e49",
        "colab": {
          "base_uri": "https://localhost:8080/",
          "height": 402
        }
      },
      "source": [
        "map_df[map_df.code_insee.str.contains(\"\\d\\d\\d\")==False]"
      ],
      "execution_count": 5,
      "outputs": [
        {
          "output_type": "execute_result",
          "data": {
            "text/html": [
              "<div>\n",
              "<style scoped>\n",
              "    .dataframe tbody tr th:only-of-type {\n",
              "        vertical-align: middle;\n",
              "    }\n",
              "\n",
              "    .dataframe tbody tr th {\n",
              "        vertical-align: top;\n",
              "    }\n",
              "\n",
              "    .dataframe thead th {\n",
              "        text-align: right;\n",
              "    }\n",
              "</style>\n",
              "<table border=\"1\" class=\"dataframe\">\n",
              "  <thead>\n",
              "    <tr style=\"text-align: right;\">\n",
              "      <th></th>\n",
              "      <th>code_insee</th>\n",
              "      <th>nom</th>\n",
              "      <th>nuts3</th>\n",
              "      <th>wikipedia</th>\n",
              "      <th>geometry</th>\n",
              "    </tr>\n",
              "  </thead>\n",
              "  <tbody>\n",
              "    <tr>\n",
              "      <th>0</th>\n",
              "      <td>01</td>\n",
              "      <td>Ain</td>\n",
              "      <td>FR711</td>\n",
              "      <td>b'fr:Ain (d\\xe9partement)'</td>\n",
              "      <td>POLYGON ((5.25559 45.78459, 5.23987 45.77758, ...</td>\n",
              "    </tr>\n",
              "    <tr>\n",
              "      <th>1</th>\n",
              "      <td>02</td>\n",
              "      <td>Aisne</td>\n",
              "      <td>FR221</td>\n",
              "      <td>b'fr:Aisne (d\\xe9partement)'</td>\n",
              "      <td>POLYGON ((3.48175 48.86640, 3.48647 48.85768, ...</td>\n",
              "    </tr>\n",
              "    <tr>\n",
              "      <th>2</th>\n",
              "      <td>03</td>\n",
              "      <td>Allier</td>\n",
              "      <td>FR721</td>\n",
              "      <td>b'fr:Allier (d\\xe9partement)'</td>\n",
              "      <td>POLYGON ((2.38613 46.33196, 2.38407 46.33112, ...</td>\n",
              "    </tr>\n",
              "    <tr>\n",
              "      <th>3</th>\n",
              "      <td>04</td>\n",
              "      <td>Alpes-de-Haute-Provence</td>\n",
              "      <td>FR821</td>\n",
              "      <td>fr:Alpes-de-Haute-Provence</td>\n",
              "      <td>POLYGON ((6.66579 43.83120, 6.67673 43.83178, ...</td>\n",
              "    </tr>\n",
              "    <tr>\n",
              "      <th>4</th>\n",
              "      <td>05</td>\n",
              "      <td>Hautes-Alpes</td>\n",
              "      <td>FR822</td>\n",
              "      <td>fr:Hautes-Alpes</td>\n",
              "      <td>POLYGON ((6.24158 44.44686, 6.24411 44.44693, ...</td>\n",
              "    </tr>\n",
              "    <tr>\n",
              "      <th>...</th>\n",
              "      <td>...</td>\n",
              "      <td>...</td>\n",
              "      <td>...</td>\n",
              "      <td>...</td>\n",
              "      <td>...</td>\n",
              "    </tr>\n",
              "    <tr>\n",
              "      <th>91</th>\n",
              "      <td>91</td>\n",
              "      <td>Essonne</td>\n",
              "      <td>FR104</td>\n",
              "      <td>b'fr:Essonne (d\\xe9partement)'</td>\n",
              "      <td>POLYGON ((2.39233 48.33593, 2.39427 48.33263, ...</td>\n",
              "    </tr>\n",
              "    <tr>\n",
              "      <th>92</th>\n",
              "      <td>92</td>\n",
              "      <td>Hauts-de-Seine</td>\n",
              "      <td>FR105</td>\n",
              "      <td>fr:Hauts-de-Seine</td>\n",
              "      <td>POLYGON ((2.31993 48.77075, 2.31588 48.76670, ...</td>\n",
              "    </tr>\n",
              "    <tr>\n",
              "      <th>93</th>\n",
              "      <td>93</td>\n",
              "      <td>Seine-Saint-Denis</td>\n",
              "      <td>FR106</td>\n",
              "      <td>fr:Seine-Saint-Denis</td>\n",
              "      <td>POLYGON ((2.41899 48.84939, 2.41636 48.84924, ...</td>\n",
              "    </tr>\n",
              "    <tr>\n",
              "      <th>94</th>\n",
              "      <td>94</td>\n",
              "      <td>Val-de-Marne</td>\n",
              "      <td>FR107</td>\n",
              "      <td>fr:Val-de-Marne</td>\n",
              "      <td>POLYGON ((2.41450 48.71780, 2.41320 48.71868, ...</td>\n",
              "    </tr>\n",
              "    <tr>\n",
              "      <th>95</th>\n",
              "      <td>95</td>\n",
              "      <td>Val-d'Oise</td>\n",
              "      <td>FR108</td>\n",
              "      <td>fr:Val-d'Oise</td>\n",
              "      <td>POLYGON ((1.79674 49.07196, 1.79991 49.06425, ...</td>\n",
              "    </tr>\n",
              "  </tbody>\n",
              "</table>\n",
              "<p>96 rows × 5 columns</p>\n",
              "</div>"
            ],
            "text/plain": [
              "   code_insee  ...                                           geometry\n",
              "0          01  ...  POLYGON ((5.25559 45.78459, 5.23987 45.77758, ...\n",
              "1          02  ...  POLYGON ((3.48175 48.86640, 3.48647 48.85768, ...\n",
              "2          03  ...  POLYGON ((2.38613 46.33196, 2.38407 46.33112, ...\n",
              "3          04  ...  POLYGON ((6.66579 43.83120, 6.67673 43.83178, ...\n",
              "4          05  ...  POLYGON ((6.24158 44.44686, 6.24411 44.44693, ...\n",
              "..        ...  ...                                                ...\n",
              "91         91  ...  POLYGON ((2.39233 48.33593, 2.39427 48.33263, ...\n",
              "92         92  ...  POLYGON ((2.31993 48.77075, 2.31588 48.76670, ...\n",
              "93         93  ...  POLYGON ((2.41899 48.84939, 2.41636 48.84924, ...\n",
              "94         94  ...  POLYGON ((2.41450 48.71780, 2.41320 48.71868, ...\n",
              "95         95  ...  POLYGON ((1.79674 49.07196, 1.79991 49.06425, ...\n",
              "\n",
              "[96 rows x 5 columns]"
            ]
          },
          "metadata": {
            "tags": []
          },
          "execution_count": 5
        }
      ]
    },
    {
      "cell_type": "code",
      "metadata": {
        "id": "e3rd9dfr2JdD",
        "outputId": "2f17ba09-4b23-4163-a3d1-ce3cc3138896",
        "colab": {
          "base_uri": "https://localhost:8080/",
          "height": 278
        }
      },
      "source": [
        "map_df.plot()"
      ],
      "execution_count": 6,
      "outputs": [
        {
          "output_type": "execute_result",
          "data": {
            "text/plain": [
              "<matplotlib.axes._subplots.AxesSubplot at 0x7f880b2e3128>"
            ]
          },
          "metadata": {
            "tags": []
          },
          "execution_count": 6
        },
        {
          "output_type": "display_data",
          "data": {
            "image/png": "[encoded data removed]",
            "text/plain": [
              "<Figure size 432x288 with 1 Axes>"
            ]
          },
          "metadata": {
            "tags": [],
            "needs_background": "light"
          }
        }
      ]
    },
    {
      "cell_type": "code",
      "metadata": {
        "id": "knIl1VCT2Jqt",
        "outputId": "debcdd14-ca12-4270-c27f-ec892dec510d",
        "colab": {
          "base_uri": "https://localhost:8080/",
          "height": 195
        }
      },
      "source": [
        "#map_df[map_df.code_insee.str.contains(\"\\d\\d\\d\")==True]\n",
        "map_df[map_df.code_insee.str.contains(\"\\d\\d\\d\")]"
      ],
      "execution_count": 7,
      "outputs": [
        {
          "output_type": "execute_result",
          "data": {
            "text/html": [
              "<div>\n",
              "<style scoped>\n",
              "    .dataframe tbody tr th:only-of-type {\n",
              "        vertical-align: middle;\n",
              "    }\n",
              "\n",
              "    .dataframe tbody tr th {\n",
              "        vertical-align: top;\n",
              "    }\n",
              "\n",
              "    .dataframe thead th {\n",
              "        text-align: right;\n",
              "    }\n",
              "</style>\n",
              "<table border=\"1\" class=\"dataframe\">\n",
              "  <thead>\n",
              "    <tr style=\"text-align: right;\">\n",
              "      <th></th>\n",
              "      <th>code_insee</th>\n",
              "      <th>nom</th>\n",
              "      <th>nuts3</th>\n",
              "      <th>wikipedia</th>\n",
              "      <th>geometry</th>\n",
              "    </tr>\n",
              "  </thead>\n",
              "  <tbody>\n",
              "    <tr>\n",
              "      <th>96</th>\n",
              "      <td>971</td>\n",
              "      <td>Guadeloupe</td>\n",
              "      <td>FR910</td>\n",
              "      <td>fr:Guadeloupe</td>\n",
              "      <td>MULTIPOLYGON (((-61.61403 15.83955, -61.61399 ...</td>\n",
              "    </tr>\n",
              "    <tr>\n",
              "      <th>97</th>\n",
              "      <td>972</td>\n",
              "      <td>Martinique</td>\n",
              "      <td>FR920</td>\n",
              "      <td>fr:Martinique</td>\n",
              "      <td>MULTIPOLYGON (((-60.86880 14.39091, -60.86747 ...</td>\n",
              "    </tr>\n",
              "    <tr>\n",
              "      <th>98</th>\n",
              "      <td>973</td>\n",
              "      <td>Guyane</td>\n",
              "      <td>FR930</td>\n",
              "      <td>fr:Guyane</td>\n",
              "      <td>MULTIPOLYGON (((-52.58463 5.28309, -52.58316 5...</td>\n",
              "    </tr>\n",
              "    <tr>\n",
              "      <th>99</th>\n",
              "      <td>974</td>\n",
              "      <td>b'La R\\xe9union'</td>\n",
              "      <td>FR940</td>\n",
              "      <td>b'fr:La R\\xe9union'</td>\n",
              "      <td>MULTIPOLYGON (((55.77886 -21.36291, 55.77889 -...</td>\n",
              "    </tr>\n",
              "    <tr>\n",
              "      <th>100</th>\n",
              "      <td>976</td>\n",
              "      <td>Mayotte</td>\n",
              "      <td>None</td>\n",
              "      <td>fr:Mayotte</td>\n",
              "      <td>MULTIPOLYGON (((45.13667 -13.00398, 45.13859 -...</td>\n",
              "    </tr>\n",
              "  </tbody>\n",
              "</table>\n",
              "</div>"
            ],
            "text/plain": [
              "    code_insee  ...                                           geometry\n",
              "96         971  ...  MULTIPOLYGON (((-61.61403 15.83955, -61.61399 ...\n",
              "97         972  ...  MULTIPOLYGON (((-60.86880 14.39091, -60.86747 ...\n",
              "98         973  ...  MULTIPOLYGON (((-52.58463 5.28309, -52.58316 5...\n",
              "99         974  ...  MULTIPOLYGON (((55.77886 -21.36291, 55.77889 -...\n",
              "100        976  ...  MULTIPOLYGON (((45.13667 -13.00398, 45.13859 -...\n",
              "\n",
              "[5 rows x 5 columns]"
            ]
          },
          "metadata": {
            "tags": []
          },
          "execution_count": 7
        }
      ]
    },
    {
      "cell_type": "code",
      "metadata": {
        "id": "W40hiYcS2JyA",
        "outputId": "32062431-ccdc-40c1-daf0-55ddad3cc1ce",
        "colab": {
          "base_uri": "https://localhost:8080/",
          "height": 402
        }
      },
      "source": [
        "map_df=map_df[map_df.code_insee.str.contains(\"\\d\\d\\d\")==False]\n",
        "map_df"
      ],
      "execution_count": 8,
      "outputs": [
        {
          "output_type": "execute_result",
          "data": {
            "text/html": [
              "<div>\n",
              "<style scoped>\n",
              "    .dataframe tbody tr th:only-of-type {\n",
              "        vertical-align: middle;\n",
              "    }\n",
              "\n",
              "    .dataframe tbody tr th {\n",
              "        vertical-align: top;\n",
              "    }\n",
              "\n",
              "    .dataframe thead th {\n",
              "        text-align: right;\n",
              "    }\n",
              "</style>\n",
              "<table border=\"1\" class=\"dataframe\">\n",
              "  <thead>\n",
              "    <tr style=\"text-align: right;\">\n",
              "      <th></th>\n",
              "      <th>code_insee</th>\n",
              "      <th>nom</th>\n",
              "      <th>nuts3</th>\n",
              "      <th>wikipedia</th>\n",
              "      <th>geometry</th>\n",
              "    </tr>\n",
              "  </thead>\n",
              "  <tbody>\n",
              "    <tr>\n",
              "      <th>0</th>\n",
              "      <td>01</td>\n",
              "      <td>Ain</td>\n",
              "      <td>FR711</td>\n",
              "      <td>b'fr:Ain (d\\xe9partement)'</td>\n",
              "      <td>POLYGON ((5.25559 45.78459, 5.23987 45.77758, ...</td>\n",
              "    </tr>\n",
              "    <tr>\n",
              "      <th>1</th>\n",
              "      <td>02</td>\n",
              "      <td>Aisne</td>\n",
              "      <td>FR221</td>\n",
              "      <td>b'fr:Aisne (d\\xe9partement)'</td>\n",
              "      <td>POLYGON ((3.48175 48.86640, 3.48647 48.85768, ...</td>\n",
              "    </tr>\n",
              "    <tr>\n",
              "      <th>2</th>\n",
              "      <td>03</td>\n",
              "      <td>Allier</td>\n",
              "      <td>FR721</td>\n",
              "      <td>b'fr:Allier (d\\xe9partement)'</td>\n",
              "      <td>POLYGON ((2.38613 46.33196, 2.38407 46.33112, ...</td>\n",
              "    </tr>\n",
              "    <tr>\n",
              "      <th>3</th>\n",
              "      <td>04</td>\n",
              "      <td>Alpes-de-Haute-Provence</td>\n",
              "      <td>FR821</td>\n",
              "      <td>fr:Alpes-de-Haute-Provence</td>\n",
              "      <td>POLYGON ((6.66579 43.83120, 6.67673 43.83178, ...</td>\n",
              "    </tr>\n",
              "    <tr>\n",
              "      <th>4</th>\n",
              "      <td>05</td>\n",
              "      <td>Hautes-Alpes</td>\n",
              "      <td>FR822</td>\n",
              "      <td>fr:Hautes-Alpes</td>\n",
              "      <td>POLYGON ((6.24158 44.44686, 6.24411 44.44693, ...</td>\n",
              "    </tr>\n",
              "    <tr>\n",
              "      <th>...</th>\n",
              "      <td>...</td>\n",
              "      <td>...</td>\n",
              "      <td>...</td>\n",
              "      <td>...</td>\n",
              "      <td>...</td>\n",
              "    </tr>\n",
              "    <tr>\n",
              "      <th>91</th>\n",
              "      <td>91</td>\n",
              "      <td>Essonne</td>\n",
              "      <td>FR104</td>\n",
              "      <td>b'fr:Essonne (d\\xe9partement)'</td>\n",
              "      <td>POLYGON ((2.39233 48.33593, 2.39427 48.33263, ...</td>\n",
              "    </tr>\n",
              "    <tr>\n",
              "      <th>92</th>\n",
              "      <td>92</td>\n",
              "      <td>Hauts-de-Seine</td>\n",
              "      <td>FR105</td>\n",
              "      <td>fr:Hauts-de-Seine</td>\n",
              "      <td>POLYGON ((2.31993 48.77075, 2.31588 48.76670, ...</td>\n",
              "    </tr>\n",
              "    <tr>\n",
              "      <th>93</th>\n",
              "      <td>93</td>\n",
              "      <td>Seine-Saint-Denis</td>\n",
              "      <td>FR106</td>\n",
              "      <td>fr:Seine-Saint-Denis</td>\n",
              "      <td>POLYGON ((2.41899 48.84939, 2.41636 48.84924, ...</td>\n",
              "    </tr>\n",
              "    <tr>\n",
              "      <th>94</th>\n",
              "      <td>94</td>\n",
              "      <td>Val-de-Marne</td>\n",
              "      <td>FR107</td>\n",
              "      <td>fr:Val-de-Marne</td>\n",
              "      <td>POLYGON ((2.41450 48.71780, 2.41320 48.71868, ...</td>\n",
              "    </tr>\n",
              "    <tr>\n",
              "      <th>95</th>\n",
              "      <td>95</td>\n",
              "      <td>Val-d'Oise</td>\n",
              "      <td>FR108</td>\n",
              "      <td>fr:Val-d'Oise</td>\n",
              "      <td>POLYGON ((1.79674 49.07196, 1.79991 49.06425, ...</td>\n",
              "    </tr>\n",
              "  </tbody>\n",
              "</table>\n",
              "<p>96 rows × 5 columns</p>\n",
              "</div>"
            ],
            "text/plain": [
              "   code_insee  ...                                           geometry\n",
              "0          01  ...  POLYGON ((5.25559 45.78459, 5.23987 45.77758, ...\n",
              "1          02  ...  POLYGON ((3.48175 48.86640, 3.48647 48.85768, ...\n",
              "2          03  ...  POLYGON ((2.38613 46.33196, 2.38407 46.33112, ...\n",
              "3          04  ...  POLYGON ((6.66579 43.83120, 6.67673 43.83178, ...\n",
              "4          05  ...  POLYGON ((6.24158 44.44686, 6.24411 44.44693, ...\n",
              "..        ...  ...                                                ...\n",
              "91         91  ...  POLYGON ((2.39233 48.33593, 2.39427 48.33263, ...\n",
              "92         92  ...  POLYGON ((2.31993 48.77075, 2.31588 48.76670, ...\n",
              "93         93  ...  POLYGON ((2.41899 48.84939, 2.41636 48.84924, ...\n",
              "94         94  ...  POLYGON ((2.41450 48.71780, 2.41320 48.71868, ...\n",
              "95         95  ...  POLYGON ((1.79674 49.07196, 1.79991 49.06425, ...\n",
              "\n",
              "[96 rows x 5 columns]"
            ]
          },
          "metadata": {
            "tags": []
          },
          "execution_count": 8
        }
      ]
    },
    {
      "cell_type": "code",
      "metadata": {
        "id": "ep1unQn02Jal",
        "outputId": "5da52f6c-33eb-4acf-d974-8dbc38c0aea0",
        "colab": {
          "base_uri": "https://localhost:8080/",
          "height": 282
        }
      },
      "source": [
        "map_df.plot()"
      ],
      "execution_count": 9,
      "outputs": [
        {
          "output_type": "execute_result",
          "data": {
            "text/plain": [
              "<matplotlib.axes._subplots.AxesSubplot at 0x7f880b24f550>"
            ]
          },
          "metadata": {
            "tags": []
          },
          "execution_count": 9
        },
        {
          "output_type": "display_data",
          "data": {
            "image/png": "[encoded data removed]",
            "text/plain": [
              "<Figure size 432x288 with 1 Axes>"
            ]
          },
          "metadata": {
            "tags": [],
            "needs_background": "light"
          }
        }
      ]
    },
    {
      "cell_type": "code",
      "metadata": {
        "id": "9-hVOZjI3uif",
        "outputId": "abb3e368-8952-47b1-86b5-055327fafc6c",
        "colab": {
          "base_uri": "https://localhost:8080/",
          "height": 402
        }
      },
      "source": [
        "import pandas as pd\n",
        "prenoms=pd.read_csv(\"/content/sample_data/dpt2019.csv\", sep=\";\")\n",
        "prenoms"
      ],
      "execution_count": 11,
      "outputs": [
        {
          "output_type": "execute_result",
          "data": {
            "text/html": [
              "<div>\n",
              "<style scoped>\n",
              "    .dataframe tbody tr th:only-of-type {\n",
              "        vertical-align: middle;\n",
              "    }\n",
              "\n",
              "    .dataframe tbody tr th {\n",
              "        vertical-align: top;\n",
              "    }\n",
              "\n",
              "    .dataframe thead th {\n",
              "        text-align: right;\n",
              "    }\n",
              "</style>\n",
              "<table border=\"1\" class=\"dataframe\">\n",
              "  <thead>\n",
              "    <tr style=\"text-align: right;\">\n",
              "      <th></th>\n",
              "      <th>sexe</th>\n",
              "      <th>preusuel</th>\n",
              "      <th>annais</th>\n",
              "      <th>dpt</th>\n",
              "      <th>nombre</th>\n",
              "    </tr>\n",
              "  </thead>\n",
              "  <tbody>\n",
              "    <tr>\n",
              "      <th>0</th>\n",
              "      <td>1</td>\n",
              "      <td>_PRENOMS_RARES</td>\n",
              "      <td>1900</td>\n",
              "      <td>02</td>\n",
              "      <td>7</td>\n",
              "    </tr>\n",
              "    <tr>\n",
              "      <th>1</th>\n",
              "      <td>1</td>\n",
              "      <td>_PRENOMS_RARES</td>\n",
              "      <td>1900</td>\n",
              "      <td>04</td>\n",
              "      <td>9</td>\n",
              "    </tr>\n",
              "    <tr>\n",
              "      <th>2</th>\n",
              "      <td>1</td>\n",
              "      <td>_PRENOMS_RARES</td>\n",
              "      <td>1900</td>\n",
              "      <td>05</td>\n",
              "      <td>8</td>\n",
              "    </tr>\n",
              "    <tr>\n",
              "      <th>3</th>\n",
              "      <td>1</td>\n",
              "      <td>_PRENOMS_RARES</td>\n",
              "      <td>1900</td>\n",
              "      <td>06</td>\n",
              "      <td>23</td>\n",
              "    </tr>\n",
              "    <tr>\n",
              "      <th>4</th>\n",
              "      <td>1</td>\n",
              "      <td>_PRENOMS_RARES</td>\n",
              "      <td>1900</td>\n",
              "      <td>07</td>\n",
              "      <td>9</td>\n",
              "    </tr>\n",
              "    <tr>\n",
              "      <th>...</th>\n",
              "      <td>...</td>\n",
              "      <td>...</td>\n",
              "      <td>...</td>\n",
              "      <td>...</td>\n",
              "      <td>...</td>\n",
              "    </tr>\n",
              "    <tr>\n",
              "      <th>3676677</th>\n",
              "      <td>2</td>\n",
              "      <td>ZYA</td>\n",
              "      <td>2018</td>\n",
              "      <td>59</td>\n",
              "      <td>3</td>\n",
              "    </tr>\n",
              "    <tr>\n",
              "      <th>3676678</th>\n",
              "      <td>2</td>\n",
              "      <td>ZYA</td>\n",
              "      <td>XXXX</td>\n",
              "      <td>XX</td>\n",
              "      <td>252</td>\n",
              "    </tr>\n",
              "    <tr>\n",
              "      <th>3676679</th>\n",
              "      <td>2</td>\n",
              "      <td>ZYNA</td>\n",
              "      <td>2013</td>\n",
              "      <td>93</td>\n",
              "      <td>3</td>\n",
              "    </tr>\n",
              "    <tr>\n",
              "      <th>3676680</th>\n",
              "      <td>2</td>\n",
              "      <td>ZYNA</td>\n",
              "      <td>XXXX</td>\n",
              "      <td>XX</td>\n",
              "      <td>54</td>\n",
              "    </tr>\n",
              "    <tr>\n",
              "      <th>3676681</th>\n",
              "      <td>2</td>\n",
              "      <td>ZYNEB</td>\n",
              "      <td>XXXX</td>\n",
              "      <td>XX</td>\n",
              "      <td>111</td>\n",
              "    </tr>\n",
              "  </tbody>\n",
              "</table>\n",
              "<p>3676682 rows × 5 columns</p>\n",
              "</div>"
            ],
            "text/plain": [
              "         sexe        preusuel annais dpt  nombre\n",
              "0           1  _PRENOMS_RARES   1900  02       7\n",
              "1           1  _PRENOMS_RARES   1900  04       9\n",
              "2           1  _PRENOMS_RARES   1900  05       8\n",
              "3           1  _PRENOMS_RARES   1900  06      23\n",
              "4           1  _PRENOMS_RARES   1900  07       9\n",
              "...       ...             ...    ...  ..     ...\n",
              "3676677     2             ZYA   2018  59       3\n",
              "3676678     2             ZYA   XXXX  XX     252\n",
              "3676679     2            ZYNA   2013  93       3\n",
              "3676680     2            ZYNA   XXXX  XX      54\n",
              "3676681     2           ZYNEB   XXXX  XX     111\n",
              "\n",
              "[3676682 rows x 5 columns]"
            ]
          },
          "metadata": {
            "tags": []
          },
          "execution_count": 11
        }
      ]
    },
    {
      "cell_type": "code",
      "metadata": {
        "id": "zu2FT3sX3uvO",
        "outputId": "330cd317-7532-4d5a-c1d0-ae28c84642b0",
        "colab": {
          "base_uri": "https://localhost:8080/"
        }
      },
      "source": [
        "dpt_sum = prenoms.groupby(\"dpt\").nombre.sum()\n",
        "dpt_sum"
      ],
      "execution_count": 12,
      "outputs": [
        {
          "output_type": "execute_result",
          "data": {
            "text/plain": [
              "dpt\n",
              "01      440132\n",
              "02      845825\n",
              "03      500158\n",
              "04      106020\n",
              "05      126691\n",
              "        ...   \n",
              "971     643111\n",
              "972     639827\n",
              "973     174634\n",
              "974    1201566\n",
              "XX     8465506\n",
              "Name: nombre, Length: 100, dtype: int64"
            ]
          },
          "metadata": {
            "tags": []
          },
          "execution_count": 12
        }
      ]
    },
    {
      "cell_type": "code",
      "metadata": {
        "id": "PRTRZcUm3u7E",
        "outputId": "97ffab93-6b63-4f65-f683-a7a7282ab3e8",
        "colab": {
          "base_uri": "https://localhost:8080/"
        }
      },
      "source": [
        "type(dpt_sum)"
      ],
      "execution_count": 13,
      "outputs": [
        {
          "output_type": "execute_result",
          "data": {
            "text/plain": [
              "pandas.core.series.Series"
            ]
          },
          "metadata": {
            "tags": []
          },
          "execution_count": 13
        }
      ]
    },
    {
      "cell_type": "code",
      "metadata": {
        "id": "H_TuG1Bn3vG_",
        "outputId": "9e8ed53b-7bfd-4e84-ddf6-2e2a1e6d74ee",
        "colab": {
          "base_uri": "https://localhost:8080/",
          "height": 402
        }
      },
      "source": [
        "dpt_sum=dpt_sum.reset_index()\n",
        "dpt_sum"
      ],
      "execution_count": 15,
      "outputs": [
        {
          "output_type": "execute_result",
          "data": {
            "text/html": [
              "<div>\n",
              "<style scoped>\n",
              "    .dataframe tbody tr th:only-of-type {\n",
              "        vertical-align: middle;\n",
              "    }\n",
              "\n",
              "    .dataframe tbody tr th {\n",
              "        vertical-align: top;\n",
              "    }\n",
              "\n",
              "    .dataframe thead th {\n",
              "        text-align: right;\n",
              "    }\n",
              "</style>\n",
              "<table border=\"1\" class=\"dataframe\">\n",
              "  <thead>\n",
              "    <tr style=\"text-align: right;\">\n",
              "      <th></th>\n",
              "      <th>index</th>\n",
              "      <th>dpt</th>\n",
              "      <th>nombre</th>\n",
              "    </tr>\n",
              "  </thead>\n",
              "  <tbody>\n",
              "    <tr>\n",
              "      <th>0</th>\n",
              "      <td>0</td>\n",
              "      <td>01</td>\n",
              "      <td>440132</td>\n",
              "    </tr>\n",
              "    <tr>\n",
              "      <th>1</th>\n",
              "      <td>1</td>\n",
              "      <td>02</td>\n",
              "      <td>845825</td>\n",
              "    </tr>\n",
              "    <tr>\n",
              "      <th>2</th>\n",
              "      <td>2</td>\n",
              "      <td>03</td>\n",
              "      <td>500158</td>\n",
              "    </tr>\n",
              "    <tr>\n",
              "      <th>3</th>\n",
              "      <td>3</td>\n",
              "      <td>04</td>\n",
              "      <td>106020</td>\n",
              "    </tr>\n",
              "    <tr>\n",
              "      <th>4</th>\n",
              "      <td>4</td>\n",
              "      <td>05</td>\n",
              "      <td>126691</td>\n",
              "    </tr>\n",
              "    <tr>\n",
              "      <th>...</th>\n",
              "      <td>...</td>\n",
              "      <td>...</td>\n",
              "      <td>...</td>\n",
              "    </tr>\n",
              "    <tr>\n",
              "      <th>95</th>\n",
              "      <td>95</td>\n",
              "      <td>971</td>\n",
              "      <td>643111</td>\n",
              "    </tr>\n",
              "    <tr>\n",
              "      <th>96</th>\n",
              "      <td>96</td>\n",
              "      <td>972</td>\n",
              "      <td>639827</td>\n",
              "    </tr>\n",
              "    <tr>\n",
              "      <th>97</th>\n",
              "      <td>97</td>\n",
              "      <td>973</td>\n",
              "      <td>174634</td>\n",
              "    </tr>\n",
              "    <tr>\n",
              "      <th>98</th>\n",
              "      <td>98</td>\n",
              "      <td>974</td>\n",
              "      <td>1201566</td>\n",
              "    </tr>\n",
              "    <tr>\n",
              "      <th>99</th>\n",
              "      <td>99</td>\n",
              "      <td>XX</td>\n",
              "      <td>8465506</td>\n",
              "    </tr>\n",
              "  </tbody>\n",
              "</table>\n",
              "<p>100 rows × 3 columns</p>\n",
              "</div>"
            ],
            "text/plain": [
              "    index  dpt   nombre\n",
              "0       0   01   440132\n",
              "1       1   02   845825\n",
              "2       2   03   500158\n",
              "3       3   04   106020\n",
              "4       4   05   126691\n",
              "..    ...  ...      ...\n",
              "95     95  971   643111\n",
              "96     96  972   639827\n",
              "97     97  973   174634\n",
              "98     98  974  1201566\n",
              "99     99   XX  8465506\n",
              "\n",
              "[100 rows x 3 columns]"
            ]
          },
          "metadata": {
            "tags": []
          },
          "execution_count": 15
        }
      ]
    },
    {
      "cell_type": "code",
      "metadata": {
        "id": "7XZWUqU_3vQH",
        "outputId": "567ad49f-a194-4d31-ff3b-2b78b67bca03",
        "colab": {
          "base_uri": "https://localhost:8080/"
        }
      },
      "source": [
        "type(dpt_sum)"
      ],
      "execution_count": 16,
      "outputs": [
        {
          "output_type": "execute_result",
          "data": {
            "text/plain": [
              "pandas.core.frame.DataFrame"
            ]
          },
          "metadata": {
            "tags": []
          },
          "execution_count": 16
        }
      ]
    },
    {
      "cell_type": "code",
      "metadata": {
        "id": "y8uFjK0P6X61",
        "outputId": "c7af6ac1-dba0-4cdf-9ed1-a1b437b5b939",
        "colab": {
          "base_uri": "https://localhost:8080/",
          "height": 402
        }
      },
      "source": [
        "dpt_sum[\"code_insee\"]=dpt_sum.dpt\n",
        "dpt_sum"
      ],
      "execution_count": 17,
      "outputs": [
        {
          "output_type": "execute_result",
          "data": {
            "text/html": [
              "<div>\n",
              "<style scoped>\n",
              "    .dataframe tbody tr th:only-of-type {\n",
              "        vertical-align: middle;\n",
              "    }\n",
              "\n",
              "    .dataframe tbody tr th {\n",
              "        vertical-align: top;\n",
              "    }\n",
              "\n",
              "    .dataframe thead th {\n",
              "        text-align: right;\n",
              "    }\n",
              "</style>\n",
              "<table border=\"1\" class=\"dataframe\">\n",
              "  <thead>\n",
              "    <tr style=\"text-align: right;\">\n",
              "      <th></th>\n",
              "      <th>index</th>\n",
              "      <th>dpt</th>\n",
              "      <th>nombre</th>\n",
              "      <th>code_insee</th>\n",
              "    </tr>\n",
              "  </thead>\n",
              "  <tbody>\n",
              "    <tr>\n",
              "      <th>0</th>\n",
              "      <td>0</td>\n",
              "      <td>01</td>\n",
              "      <td>440132</td>\n",
              "      <td>01</td>\n",
              "    </tr>\n",
              "    <tr>\n",
              "      <th>1</th>\n",
              "      <td>1</td>\n",
              "      <td>02</td>\n",
              "      <td>845825</td>\n",
              "      <td>02</td>\n",
              "    </tr>\n",
              "    <tr>\n",
              "      <th>2</th>\n",
              "      <td>2</td>\n",
              "      <td>03</td>\n",
              "      <td>500158</td>\n",
              "      <td>03</td>\n",
              "    </tr>\n",
              "    <tr>\n",
              "      <th>3</th>\n",
              "      <td>3</td>\n",
              "      <td>04</td>\n",
              "      <td>106020</td>\n",
              "      <td>04</td>\n",
              "    </tr>\n",
              "    <tr>\n",
              "      <th>4</th>\n",
              "      <td>4</td>\n",
              "      <td>05</td>\n",
              "      <td>126691</td>\n",
              "      <td>05</td>\n",
              "    </tr>\n",
              "    <tr>\n",
              "      <th>...</th>\n",
              "      <td>...</td>\n",
              "      <td>...</td>\n",
              "      <td>...</td>\n",
              "      <td>...</td>\n",
              "    </tr>\n",
              "    <tr>\n",
              "      <th>95</th>\n",
              "      <td>95</td>\n",
              "      <td>971</td>\n",
              "      <td>643111</td>\n",
              "      <td>971</td>\n",
              "    </tr>\n",
              "    <tr>\n",
              "      <th>96</th>\n",
              "      <td>96</td>\n",
              "      <td>972</td>\n",
              "      <td>639827</td>\n",
              "      <td>972</td>\n",
              "    </tr>\n",
              "    <tr>\n",
              "      <th>97</th>\n",
              "      <td>97</td>\n",
              "      <td>973</td>\n",
              "      <td>174634</td>\n",
              "      <td>973</td>\n",
              "    </tr>\n",
              "    <tr>\n",
              "      <th>98</th>\n",
              "      <td>98</td>\n",
              "      <td>974</td>\n",
              "      <td>1201566</td>\n",
              "      <td>974</td>\n",
              "    </tr>\n",
              "    <tr>\n",
              "      <th>99</th>\n",
              "      <td>99</td>\n",
              "      <td>XX</td>\n",
              "      <td>8465506</td>\n",
              "      <td>XX</td>\n",
              "    </tr>\n",
              "  </tbody>\n",
              "</table>\n",
              "<p>100 rows × 4 columns</p>\n",
              "</div>"
            ],
            "text/plain": [
              "    index  dpt   nombre code_insee\n",
              "0       0   01   440132         01\n",
              "1       1   02   845825         02\n",
              "2       2   03   500158         03\n",
              "3       3   04   106020         04\n",
              "4       4   05   126691         05\n",
              "..    ...  ...      ...        ...\n",
              "95     95  971   643111        971\n",
              "96     96  972   639827        972\n",
              "97     97  973   174634        973\n",
              "98     98  974  1201566        974\n",
              "99     99   XX  8465506         XX\n",
              "\n",
              "[100 rows x 4 columns]"
            ]
          },
          "metadata": {
            "tags": []
          },
          "execution_count": 17
        }
      ]
    },
    {
      "cell_type": "code",
      "metadata": {
        "id": "pPg0_MvR6YMZ",
        "outputId": "38494604-88da-4644-b950-0dbdb4dbd657",
        "colab": {
          "base_uri": "https://localhost:8080/",
          "height": 402
        }
      },
      "source": [
        "merged = map_df.merge(dpt_sum, on='code_insee')\n",
        "\n",
        "merged.head()\n",
        "\n",
        "merged"
      ],
      "execution_count": 18,
      "outputs": [
        {
          "output_type": "execute_result",
          "data": {
            "text/html": [
              "<div>\n",
              "<style scoped>\n",
              "    .dataframe tbody tr th:only-of-type {\n",
              "        vertical-align: middle;\n",
              "    }\n",
              "\n",
              "    .dataframe tbody tr th {\n",
              "        vertical-align: top;\n",
              "    }\n",
              "\n",
              "    .dataframe thead th {\n",
              "        text-align: right;\n",
              "    }\n",
              "</style>\n",
              "<table border=\"1\" class=\"dataframe\">\n",
              "  <thead>\n",
              "    <tr style=\"text-align: right;\">\n",
              "      <th></th>\n",
              "      <th>code_insee</th>\n",
              "      <th>nom</th>\n",
              "      <th>nuts3</th>\n",
              "      <th>wikipedia</th>\n",
              "      <th>geometry</th>\n",
              "      <th>index</th>\n",
              "      <th>dpt</th>\n",
              "      <th>nombre</th>\n",
              "    </tr>\n",
              "  </thead>\n",
              "  <tbody>\n",
              "    <tr>\n",
              "      <th>0</th>\n",
              "      <td>01</td>\n",
              "      <td>Ain</td>\n",
              "      <td>FR711</td>\n",
              "      <td>b'fr:Ain (d\\xe9partement)'</td>\n",
              "      <td>POLYGON ((5.25559 45.78459, 5.23987 45.77758, ...</td>\n",
              "      <td>0</td>\n",
              "      <td>01</td>\n",
              "      <td>440132</td>\n",
              "    </tr>\n",
              "    <tr>\n",
              "      <th>1</th>\n",
              "      <td>02</td>\n",
              "      <td>Aisne</td>\n",
              "      <td>FR221</td>\n",
              "      <td>b'fr:Aisne (d\\xe9partement)'</td>\n",
              "      <td>POLYGON ((3.48175 48.86640, 3.48647 48.85768, ...</td>\n",
              "      <td>1</td>\n",
              "      <td>02</td>\n",
              "      <td>845825</td>\n",
              "    </tr>\n",
              "    <tr>\n",
              "      <th>2</th>\n",
              "      <td>03</td>\n",
              "      <td>Allier</td>\n",
              "      <td>FR721</td>\n",
              "      <td>b'fr:Allier (d\\xe9partement)'</td>\n",
              "      <td>POLYGON ((2.38613 46.33196, 2.38407 46.33112, ...</td>\n",
              "      <td>2</td>\n",
              "      <td>03</td>\n",
              "      <td>500158</td>\n",
              "    </tr>\n",
              "    <tr>\n",
              "      <th>3</th>\n",
              "      <td>04</td>\n",
              "      <td>Alpes-de-Haute-Provence</td>\n",
              "      <td>FR821</td>\n",
              "      <td>fr:Alpes-de-Haute-Provence</td>\n",
              "      <td>POLYGON ((6.66579 43.83120, 6.67673 43.83178, ...</td>\n",
              "      <td>3</td>\n",
              "      <td>04</td>\n",
              "      <td>106020</td>\n",
              "    </tr>\n",
              "    <tr>\n",
              "      <th>4</th>\n",
              "      <td>05</td>\n",
              "      <td>Hautes-Alpes</td>\n",
              "      <td>FR822</td>\n",
              "      <td>fr:Hautes-Alpes</td>\n",
              "      <td>POLYGON ((6.24158 44.44686, 6.24411 44.44693, ...</td>\n",
              "      <td>4</td>\n",
              "      <td>05</td>\n",
              "      <td>126691</td>\n",
              "    </tr>\n",
              "    <tr>\n",
              "      <th>...</th>\n",
              "      <td>...</td>\n",
              "      <td>...</td>\n",
              "      <td>...</td>\n",
              "      <td>...</td>\n",
              "      <td>...</td>\n",
              "      <td>...</td>\n",
              "      <td>...</td>\n",
              "      <td>...</td>\n",
              "    </tr>\n",
              "    <tr>\n",
              "      <th>89</th>\n",
              "      <td>91</td>\n",
              "      <td>Essonne</td>\n",
              "      <td>FR104</td>\n",
              "      <td>b'fr:Essonne (d\\xe9partement)'</td>\n",
              "      <td>POLYGON ((2.39233 48.33593, 2.39427 48.33263, ...</td>\n",
              "      <td>90</td>\n",
              "      <td>91</td>\n",
              "      <td>582907</td>\n",
              "    </tr>\n",
              "    <tr>\n",
              "      <th>90</th>\n",
              "      <td>92</td>\n",
              "      <td>Hauts-de-Seine</td>\n",
              "      <td>FR105</td>\n",
              "      <td>fr:Hauts-de-Seine</td>\n",
              "      <td>POLYGON ((2.31993 48.77075, 2.31588 48.76670, ...</td>\n",
              "      <td>91</td>\n",
              "      <td>92</td>\n",
              "      <td>1174101</td>\n",
              "    </tr>\n",
              "    <tr>\n",
              "      <th>91</th>\n",
              "      <td>93</td>\n",
              "      <td>Seine-Saint-Denis</td>\n",
              "      <td>FR106</td>\n",
              "      <td>fr:Seine-Saint-Denis</td>\n",
              "      <td>POLYGON ((2.41899 48.84939, 2.41636 48.84924, ...</td>\n",
              "      <td>92</td>\n",
              "      <td>93</td>\n",
              "      <td>993947</td>\n",
              "    </tr>\n",
              "    <tr>\n",
              "      <th>92</th>\n",
              "      <td>94</td>\n",
              "      <td>Val-de-Marne</td>\n",
              "      <td>FR107</td>\n",
              "      <td>fr:Val-de-Marne</td>\n",
              "      <td>POLYGON ((2.41450 48.71780, 2.41320 48.71868, ...</td>\n",
              "      <td>93</td>\n",
              "      <td>94</td>\n",
              "      <td>821258</td>\n",
              "    </tr>\n",
              "    <tr>\n",
              "      <th>93</th>\n",
              "      <td>95</td>\n",
              "      <td>Val-d'Oise</td>\n",
              "      <td>FR108</td>\n",
              "      <td>fr:Val-d'Oise</td>\n",
              "      <td>POLYGON ((1.79674 49.07196, 1.79991 49.06425, ...</td>\n",
              "      <td>94</td>\n",
              "      <td>95</td>\n",
              "      <td>687871</td>\n",
              "    </tr>\n",
              "  </tbody>\n",
              "</table>\n",
              "<p>94 rows × 8 columns</p>\n",
              "</div>"
            ],
            "text/plain": [
              "   code_insee                      nom  nuts3  ... index dpt   nombre\n",
              "0          01                      Ain  FR711  ...     0  01   440132\n",
              "1          02                    Aisne  FR221  ...     1  02   845825\n",
              "2          03                   Allier  FR721  ...     2  03   500158\n",
              "3          04  Alpes-de-Haute-Provence  FR821  ...     3  04   106020\n",
              "4          05             Hautes-Alpes  FR822  ...     4  05   126691\n",
              "..        ...                      ...    ...  ...   ...  ..      ...\n",
              "89         91                  Essonne  FR104  ...    90  91   582907\n",
              "90         92           Hauts-de-Seine  FR105  ...    91  92  1174101\n",
              "91         93        Seine-Saint-Denis  FR106  ...    92  93   993947\n",
              "92         94             Val-de-Marne  FR107  ...    93  94   821258\n",
              "93         95               Val-d'Oise  FR108  ...    94  95   687871\n",
              "\n",
              "[94 rows x 8 columns]"
            ]
          },
          "metadata": {
            "tags": []
          },
          "execution_count": 18
        }
      ]
    },
    {
      "cell_type": "code",
      "metadata": {
        "id": "x7ezJ1bo6Yh8",
        "outputId": "50efdca8-3ce6-4542-cff9-9e8fa2f3e1a1",
        "colab": {
          "base_uri": "https://localhost:8080/",
          "height": 402
        }
      },
      "source": [
        "import matplotlib.pyplot as plt\n",
        "fig, ax = plt.subplots(1, figsize=(8, 6))\n",
        "\n",
        "merged.plot(column=\"nombre\",   ax=ax, linewidth=0.3,edgecolor=\"0.8\",legend=True,legend_kwds\n",
        "            ={\"label\": \"Total Birth by Departement\"})"
      ],
      "execution_count": 19,
      "outputs": [
        {
          "output_type": "execute_result",
          "data": {
            "text/plain": [
              "<matplotlib.axes._subplots.AxesSubplot at 0x7f8806e7af98>"
            ]
          },
          "metadata": {
            "tags": []
          },
          "execution_count": 19
        },
        {
          "output_type": "display_data",
          "data": {
            "image/png": "[encoded data removed]",
            "text/plain": [
              "<Figure size 576x432 with 2 Axes>"
            ]
          },
          "metadata": {
            "tags": [],
            "needs_background": "light"
          }
        }
      ]
    },
    {
      "cell_type": "code",
      "metadata": {
        "id": "W0a6P_9u6YAW",
        "outputId": "eb53042d-25c6-4031-eea1-f6bb78ceefda",
        "colab": {
          "base_uri": "https://localhost:8080/",
          "height": 385
        }
      },
      "source": [
        "fig, ax = plt.subplots(1, figsize=(8, 6))\n",
        "\n",
        "plt.axis([1.5,3,48.5,49.25])\n",
        "\n",
        "merged.plot(column=\"nombre\",   ax=ax, linewidth=0.3,edgecolor=\"0.8\",legend=True,legend_kwds\n",
        "            ={\"label\": \"Total Birth by Departement\"})"
      ],
      "execution_count": 20,
      "outputs": [
        {
          "output_type": "execute_result",
          "data": {
            "text/plain": [
              "<matplotlib.axes._subplots.AxesSubplot at 0x7f8806e0ba58>"
            ]
          },
          "metadata": {
            "tags": []
          },
          "execution_count": 20
        },
        {
          "output_type": "display_data",
          "data": {
            "image/png": "[encoded data removed]",
            "text/plain": [
              "<Figure size 576x432 with 2 Axes>"
            ]
          },
          "metadata": {
            "tags": [],
            "needs_background": "light"
          }
        }
      ]
    },
    {
      "cell_type": "code",
      "metadata": {
        "id": "LJrG1U49_Orl"
      },
      "source": [
        "# POUR ALLER PLUS LOIN : \n",
        "# https://geopandas.org/mapping.html"
      ],
      "execution_count": 21,
      "outputs": []
    },
    {
      "cell_type": "markdown",
      "metadata": {
        "id": "lHoVwjB5AI4x"
      },
      "source": [
        "# 3. EXERCICES :\n",
        "\n",
        "\n",
        "\n",
        "* Display a choropleth map with Boys/girls total births disparity\n",
        "* The same but weighted by total dpt population\n",
        "\n",
        "* Display a choropleth map with number of girls named Emma born in 2018\n",
        "\n",
        "* The same but weighted by total dpt population ( for instance nb of Emma births per thousand of population in the dpt )\n",
        "\n",
        "to do this you must find a file with 2018 population for every dpt. the file must contain a department column with the same data as the prenoms dpt column...\n",
        "\n",
        "SUPERBONUS\n",
        "\n",
        "* choropleth map for the most innovant departements , population weighted what is innovation ?\n",
        "\n",
        "* choropleth map for the most trendsetting departements , population weighted what is trendsetting ? we could detect firstname that appear (or come again..) in one or a few departments only, and then grows in other departments.\n"
      ]
    },
    {
      "cell_type": "markdown",
      "metadata": {
        "id": "9FvByakbKSgK"
      },
      "source": [
        "# Question 1"
      ]
    },
    {
      "cell_type": "code",
      "metadata": {
        "id": "K1-pEij8_O4x",
        "outputId": "286904e1-26ab-4bbe-dfa1-7e00403bf3ca",
        "colab": {
          "base_uri": "https://localhost:8080/"
        }
      },
      "source": [
        "dpt_sum_boys = prenoms[(prenoms.sexe==1)].groupby(prenoms.dpt).nombre.sum()\n",
        "dpt_sum_boys"
      ],
      "execution_count": 22,
      "outputs": [
        {
          "output_type": "execute_result",
          "data": {
            "text/plain": [
              "dpt\n",
              "01      223592\n",
              "02      430054\n",
              "03      254648\n",
              "04       55387\n",
              "05       65511\n",
              "        ...   \n",
              "971     339474\n",
              "972     334396\n",
              "973      94663\n",
              "974     617721\n",
              "XX     3779609\n",
              "Name: nombre, Length: 100, dtype: int64"
            ]
          },
          "metadata": {
            "tags": []
          },
          "execution_count": 22
        }
      ]
    },
    {
      "cell_type": "code",
      "metadata": {
        "id": "ukcG52ONJKvo",
        "outputId": "79f82fe2-d99e-4088-c572-748b4ac7842d",
        "colab": {
          "base_uri": "https://localhost:8080/"
        }
      },
      "source": [
        "dpt_sum_girls = prenoms[(prenoms.sexe==2)].groupby(prenoms.dpt).nombre.sum()\n",
        "dpt_sum_girls"
      ],
      "execution_count": 23,
      "outputs": [
        {
          "output_type": "execute_result",
          "data": {
            "text/plain": [
              "dpt\n",
              "01      216540\n",
              "02      415771\n",
              "03      245510\n",
              "04       50633\n",
              "05       61180\n",
              "        ...   \n",
              "971     303637\n",
              "972     305431\n",
              "973      79971\n",
              "974     583845\n",
              "XX     4685897\n",
              "Name: nombre, Length: 100, dtype: int64"
            ]
          },
          "metadata": {
            "tags": []
          },
          "execution_count": 23
        }
      ]
    },
    {
      "cell_type": "code",
      "metadata": {
        "id": "0nFMMbY8JP__",
        "outputId": "e44de064-b22f-438e-c8db-cc48a248215e",
        "colab": {
          "base_uri": "https://localhost:8080/"
        }
      },
      "source": [
        "ratio = dpt_sum_boys / dpt_sum_girls \n",
        "ratio"
      ],
      "execution_count": 24,
      "outputs": [
        {
          "output_type": "execute_result",
          "data": {
            "text/plain": [
              "dpt\n",
              "01     1.032567\n",
              "02     1.034353\n",
              "03     1.037220\n",
              "04     1.093891\n",
              "05     1.070791\n",
              "         ...   \n",
              "971    1.118026\n",
              "972    1.094833\n",
              "973    1.183717\n",
              "974    1.058022\n",
              "XX     0.806592\n",
              "Name: nombre, Length: 100, dtype: float64"
            ]
          },
          "metadata": {
            "tags": []
          },
          "execution_count": 24
        }
      ]
    },
    {
      "cell_type": "code",
      "metadata": {
        "id": "7hPUlqIOG_JH",
        "outputId": "dfefeeb0-df27-41f9-ac22-12849907a1b9",
        "colab": {
          "base_uri": "https://localhost:8080/"
        }
      },
      "source": [
        "type(ratio)"
      ],
      "execution_count": 25,
      "outputs": [
        {
          "output_type": "execute_result",
          "data": {
            "text/plain": [
              "pandas.core.series.Series"
            ]
          },
          "metadata": {
            "tags": []
          },
          "execution_count": 25
        }
      ]
    },
    {
      "cell_type": "code",
      "metadata": {
        "id": "_eAqcTsNHGMc",
        "outputId": "047c4b97-8042-4348-8392-b6b397f708d7",
        "colab": {
          "base_uri": "https://localhost:8080/",
          "height": 402
        }
      },
      "source": [
        "ratio=ratio.reset_index()\n",
        "ratio"
      ],
      "execution_count": 26,
      "outputs": [
        {
          "output_type": "execute_result",
          "data": {
            "text/html": [
              "<div>\n",
              "<style scoped>\n",
              "    .dataframe tbody tr th:only-of-type {\n",
              "        vertical-align: middle;\n",
              "    }\n",
              "\n",
              "    .dataframe tbody tr th {\n",
              "        vertical-align: top;\n",
              "    }\n",
              "\n",
              "    .dataframe thead th {\n",
              "        text-align: right;\n",
              "    }\n",
              "</style>\n",
              "<table border=\"1\" class=\"dataframe\">\n",
              "  <thead>\n",
              "    <tr style=\"text-align: right;\">\n",
              "      <th></th>\n",
              "      <th>dpt</th>\n",
              "      <th>nombre</th>\n",
              "    </tr>\n",
              "  </thead>\n",
              "  <tbody>\n",
              "    <tr>\n",
              "      <th>0</th>\n",
              "      <td>01</td>\n",
              "      <td>1.032567</td>\n",
              "    </tr>\n",
              "    <tr>\n",
              "      <th>1</th>\n",
              "      <td>02</td>\n",
              "      <td>1.034353</td>\n",
              "    </tr>\n",
              "    <tr>\n",
              "      <th>2</th>\n",
              "      <td>03</td>\n",
              "      <td>1.037220</td>\n",
              "    </tr>\n",
              "    <tr>\n",
              "      <th>3</th>\n",
              "      <td>04</td>\n",
              "      <td>1.093891</td>\n",
              "    </tr>\n",
              "    <tr>\n",
              "      <th>4</th>\n",
              "      <td>05</td>\n",
              "      <td>1.070791</td>\n",
              "    </tr>\n",
              "    <tr>\n",
              "      <th>...</th>\n",
              "      <td>...</td>\n",
              "      <td>...</td>\n",
              "    </tr>\n",
              "    <tr>\n",
              "      <th>95</th>\n",
              "      <td>971</td>\n",
              "      <td>1.118026</td>\n",
              "    </tr>\n",
              "    <tr>\n",
              "      <th>96</th>\n",
              "      <td>972</td>\n",
              "      <td>1.094833</td>\n",
              "    </tr>\n",
              "    <tr>\n",
              "      <th>97</th>\n",
              "      <td>973</td>\n",
              "      <td>1.183717</td>\n",
              "    </tr>\n",
              "    <tr>\n",
              "      <th>98</th>\n",
              "      <td>974</td>\n",
              "      <td>1.058022</td>\n",
              "    </tr>\n",
              "    <tr>\n",
              "      <th>99</th>\n",
              "      <td>XX</td>\n",
              "      <td>0.806592</td>\n",
              "    </tr>\n",
              "  </tbody>\n",
              "</table>\n",
              "<p>100 rows × 2 columns</p>\n",
              "</div>"
            ],
            "text/plain": [
              "    dpt    nombre\n",
              "0    01  1.032567\n",
              "1    02  1.034353\n",
              "2    03  1.037220\n",
              "3    04  1.093891\n",
              "4    05  1.070791\n",
              "..  ...       ...\n",
              "95  971  1.118026\n",
              "96  972  1.094833\n",
              "97  973  1.183717\n",
              "98  974  1.058022\n",
              "99   XX  0.806592\n",
              "\n",
              "[100 rows x 2 columns]"
            ]
          },
          "metadata": {
            "tags": []
          },
          "execution_count": 26
        }
      ]
    },
    {
      "cell_type": "code",
      "metadata": {
        "id": "kRFk_Doy_PTn",
        "outputId": "64df3a8c-6eb9-411e-d039-44bb04e8ca4e",
        "colab": {
          "base_uri": "https://localhost:8080/",
          "height": 402
        }
      },
      "source": [
        "ratio[\"code_insee\"]=ratio.dpt\n",
        "ratio"
      ],
      "execution_count": 27,
      "outputs": [
        {
          "output_type": "execute_result",
          "data": {
            "text/html": [
              "<div>\n",
              "<style scoped>\n",
              "    .dataframe tbody tr th:only-of-type {\n",
              "        vertical-align: middle;\n",
              "    }\n",
              "\n",
              "    .dataframe tbody tr th {\n",
              "        vertical-align: top;\n",
              "    }\n",
              "\n",
              "    .dataframe thead th {\n",
              "        text-align: right;\n",
              "    }\n",
              "</style>\n",
              "<table border=\"1\" class=\"dataframe\">\n",
              "  <thead>\n",
              "    <tr style=\"text-align: right;\">\n",
              "      <th></th>\n",
              "      <th>dpt</th>\n",
              "      <th>nombre</th>\n",
              "      <th>code_insee</th>\n",
              "    </tr>\n",
              "  </thead>\n",
              "  <tbody>\n",
              "    <tr>\n",
              "      <th>0</th>\n",
              "      <td>01</td>\n",
              "      <td>1.032567</td>\n",
              "      <td>01</td>\n",
              "    </tr>\n",
              "    <tr>\n",
              "      <th>1</th>\n",
              "      <td>02</td>\n",
              "      <td>1.034353</td>\n",
              "      <td>02</td>\n",
              "    </tr>\n",
              "    <tr>\n",
              "      <th>2</th>\n",
              "      <td>03</td>\n",
              "      <td>1.037220</td>\n",
              "      <td>03</td>\n",
              "    </tr>\n",
              "    <tr>\n",
              "      <th>3</th>\n",
              "      <td>04</td>\n",
              "      <td>1.093891</td>\n",
              "      <td>04</td>\n",
              "    </tr>\n",
              "    <tr>\n",
              "      <th>4</th>\n",
              "      <td>05</td>\n",
              "      <td>1.070791</td>\n",
              "      <td>05</td>\n",
              "    </tr>\n",
              "    <tr>\n",
              "      <th>...</th>\n",
              "      <td>...</td>\n",
              "      <td>...</td>\n",
              "      <td>...</td>\n",
              "    </tr>\n",
              "    <tr>\n",
              "      <th>95</th>\n",
              "      <td>971</td>\n",
              "      <td>1.118026</td>\n",
              "      <td>971</td>\n",
              "    </tr>\n",
              "    <tr>\n",
              "      <th>96</th>\n",
              "      <td>972</td>\n",
              "      <td>1.094833</td>\n",
              "      <td>972</td>\n",
              "    </tr>\n",
              "    <tr>\n",
              "      <th>97</th>\n",
              "      <td>973</td>\n",
              "      <td>1.183717</td>\n",
              "      <td>973</td>\n",
              "    </tr>\n",
              "    <tr>\n",
              "      <th>98</th>\n",
              "      <td>974</td>\n",
              "      <td>1.058022</td>\n",
              "      <td>974</td>\n",
              "    </tr>\n",
              "    <tr>\n",
              "      <th>99</th>\n",
              "      <td>XX</td>\n",
              "      <td>0.806592</td>\n",
              "      <td>XX</td>\n",
              "    </tr>\n",
              "  </tbody>\n",
              "</table>\n",
              "<p>100 rows × 3 columns</p>\n",
              "</div>"
            ],
            "text/plain": [
              "    dpt    nombre code_insee\n",
              "0    01  1.032567         01\n",
              "1    02  1.034353         02\n",
              "2    03  1.037220         03\n",
              "3    04  1.093891         04\n",
              "4    05  1.070791         05\n",
              "..  ...       ...        ...\n",
              "95  971  1.118026        971\n",
              "96  972  1.094833        972\n",
              "97  973  1.183717        973\n",
              "98  974  1.058022        974\n",
              "99   XX  0.806592         XX\n",
              "\n",
              "[100 rows x 3 columns]"
            ]
          },
          "metadata": {
            "tags": []
          },
          "execution_count": 27
        }
      ]
    },
    {
      "cell_type": "code",
      "metadata": {
        "id": "DXXgFGfT_PI8",
        "outputId": "9e32aa57-2b48-4871-dc0f-bd6e9a9b4ce5",
        "colab": {
          "base_uri": "https://localhost:8080/",
          "height": 402
        }
      },
      "source": [
        "merged_disparity = map_df.merge(ratio, on='code_insee')\n",
        "\n",
        "merged_disparity.head()\n",
        "\n",
        "merged_disparity"
      ],
      "execution_count": 28,
      "outputs": [
        {
          "output_type": "execute_result",
          "data": {
            "text/html": [
              "<div>\n",
              "<style scoped>\n",
              "    .dataframe tbody tr th:only-of-type {\n",
              "        vertical-align: middle;\n",
              "    }\n",
              "\n",
              "    .dataframe tbody tr th {\n",
              "        vertical-align: top;\n",
              "    }\n",
              "\n",
              "    .dataframe thead th {\n",
              "        text-align: right;\n",
              "    }\n",
              "</style>\n",
              "<table border=\"1\" class=\"dataframe\">\n",
              "  <thead>\n",
              "    <tr style=\"text-align: right;\">\n",
              "      <th></th>\n",
              "      <th>code_insee</th>\n",
              "      <th>nom</th>\n",
              "      <th>nuts3</th>\n",
              "      <th>wikipedia</th>\n",
              "      <th>geometry</th>\n",
              "      <th>dpt</th>\n",
              "      <th>nombre</th>\n",
              "    </tr>\n",
              "  </thead>\n",
              "  <tbody>\n",
              "    <tr>\n",
              "      <th>0</th>\n",
              "      <td>01</td>\n",
              "      <td>Ain</td>\n",
              "      <td>FR711</td>\n",
              "      <td>b'fr:Ain (d\\xe9partement)'</td>\n",
              "      <td>POLYGON ((5.25559 45.78459, 5.23987 45.77758, ...</td>\n",
              "      <td>01</td>\n",
              "      <td>1.032567</td>\n",
              "    </tr>\n",
              "    <tr>\n",
              "      <th>1</th>\n",
              "      <td>02</td>\n",
              "      <td>Aisne</td>\n",
              "      <td>FR221</td>\n",
              "      <td>b'fr:Aisne (d\\xe9partement)'</td>\n",
              "      <td>POLYGON ((3.48175 48.86640, 3.48647 48.85768, ...</td>\n",
              "      <td>02</td>\n",
              "      <td>1.034353</td>\n",
              "    </tr>\n",
              "    <tr>\n",
              "      <th>2</th>\n",
              "      <td>03</td>\n",
              "      <td>Allier</td>\n",
              "      <td>FR721</td>\n",
              "      <td>b'fr:Allier (d\\xe9partement)'</td>\n",
              "      <td>POLYGON ((2.38613 46.33196, 2.38407 46.33112, ...</td>\n",
              "      <td>03</td>\n",
              "      <td>1.037220</td>\n",
              "    </tr>\n",
              "    <tr>\n",
              "      <th>3</th>\n",
              "      <td>04</td>\n",
              "      <td>Alpes-de-Haute-Provence</td>\n",
              "      <td>FR821</td>\n",
              "      <td>fr:Alpes-de-Haute-Provence</td>\n",
              "      <td>POLYGON ((6.66579 43.83120, 6.67673 43.83178, ...</td>\n",
              "      <td>04</td>\n",
              "      <td>1.093891</td>\n",
              "    </tr>\n",
              "    <tr>\n",
              "      <th>4</th>\n",
              "      <td>05</td>\n",
              "      <td>Hautes-Alpes</td>\n",
              "      <td>FR822</td>\n",
              "      <td>fr:Hautes-Alpes</td>\n",
              "      <td>POLYGON ((6.24158 44.44686, 6.24411 44.44693, ...</td>\n",
              "      <td>05</td>\n",
              "      <td>1.070791</td>\n",
              "    </tr>\n",
              "    <tr>\n",
              "      <th>...</th>\n",
              "      <td>...</td>\n",
              "      <td>...</td>\n",
              "      <td>...</td>\n",
              "      <td>...</td>\n",
              "      <td>...</td>\n",
              "      <td>...</td>\n",
              "      <td>...</td>\n",
              "    </tr>\n",
              "    <tr>\n",
              "      <th>89</th>\n",
              "      <td>91</td>\n",
              "      <td>Essonne</td>\n",
              "      <td>FR104</td>\n",
              "      <td>b'fr:Essonne (d\\xe9partement)'</td>\n",
              "      <td>POLYGON ((2.39233 48.33593, 2.39427 48.33263, ...</td>\n",
              "      <td>91</td>\n",
              "      <td>1.086117</td>\n",
              "    </tr>\n",
              "    <tr>\n",
              "      <th>90</th>\n",
              "      <td>92</td>\n",
              "      <td>Hauts-de-Seine</td>\n",
              "      <td>FR105</td>\n",
              "      <td>fr:Hauts-de-Seine</td>\n",
              "      <td>POLYGON ((2.31993 48.77075, 2.31588 48.76670, ...</td>\n",
              "      <td>92</td>\n",
              "      <td>1.073065</td>\n",
              "    </tr>\n",
              "    <tr>\n",
              "      <th>91</th>\n",
              "      <td>93</td>\n",
              "      <td>Seine-Saint-Denis</td>\n",
              "      <td>FR106</td>\n",
              "      <td>fr:Seine-Saint-Denis</td>\n",
              "      <td>POLYGON ((2.41899 48.84939, 2.41636 48.84924, ...</td>\n",
              "      <td>93</td>\n",
              "      <td>1.076025</td>\n",
              "    </tr>\n",
              "    <tr>\n",
              "      <th>92</th>\n",
              "      <td>94</td>\n",
              "      <td>Val-de-Marne</td>\n",
              "      <td>FR107</td>\n",
              "      <td>fr:Val-de-Marne</td>\n",
              "      <td>POLYGON ((2.41450 48.71780, 2.41320 48.71868, ...</td>\n",
              "      <td>94</td>\n",
              "      <td>1.073957</td>\n",
              "    </tr>\n",
              "    <tr>\n",
              "      <th>93</th>\n",
              "      <td>95</td>\n",
              "      <td>Val-d'Oise</td>\n",
              "      <td>FR108</td>\n",
              "      <td>fr:Val-d'Oise</td>\n",
              "      <td>POLYGON ((1.79674 49.07196, 1.79991 49.06425, ...</td>\n",
              "      <td>95</td>\n",
              "      <td>1.081720</td>\n",
              "    </tr>\n",
              "  </tbody>\n",
              "</table>\n",
              "<p>94 rows × 7 columns</p>\n",
              "</div>"
            ],
            "text/plain": [
              "   code_insee                      nom  ... dpt    nombre\n",
              "0          01                      Ain  ...  01  1.032567\n",
              "1          02                    Aisne  ...  02  1.034353\n",
              "2          03                   Allier  ...  03  1.037220\n",
              "3          04  Alpes-de-Haute-Provence  ...  04  1.093891\n",
              "4          05             Hautes-Alpes  ...  05  1.070791\n",
              "..        ...                      ...  ...  ..       ...\n",
              "89         91                  Essonne  ...  91  1.086117\n",
              "90         92           Hauts-de-Seine  ...  92  1.073065\n",
              "91         93        Seine-Saint-Denis  ...  93  1.076025\n",
              "92         94             Val-de-Marne  ...  94  1.073957\n",
              "93         95               Val-d'Oise  ...  95  1.081720\n",
              "\n",
              "[94 rows x 7 columns]"
            ]
          },
          "metadata": {
            "tags": []
          },
          "execution_count": 28
        }
      ]
    },
    {
      "cell_type": "code",
      "metadata": {
        "id": "33XYw6FH6XxH",
        "outputId": "999970cf-d7d6-4b2f-b69b-ad62e3be9657",
        "colab": {
          "base_uri": "https://localhost:8080/",
          "height": 391
        }
      },
      "source": [
        "import matplotlib.pyplot as plt\n",
        "fig, ax = plt.subplots(1, figsize=(8, 6))\n",
        "  \n",
        "merged_disparity.plot(column=\"nombre\",   ax=ax, linewidth=0.3,edgecolor=\"0.8\",legend=True,legend_kwds\n",
        "            ={\"label\": \"Disparity by Departement\"})"
      ],
      "execution_count": 29,
      "outputs": [
        {
          "output_type": "execute_result",
          "data": {
            "text/plain": [
              "<matplotlib.axes._subplots.AxesSubplot at 0x7f8806d1ddd8>"
            ]
          },
          "metadata": {
            "tags": []
          },
          "execution_count": 29
        },
        {
          "output_type": "display_data",
          "data": {
            "image/png": "[encoded data removed]",
            "text/plain": [
              "<Figure size 576x432 with 2 Axes>"
            ]
          },
          "metadata": {
            "tags": [],
            "needs_background": "light"
          }
        }
      ]
    },
    {
      "cell_type": "markdown",
      "metadata": {
        "id": "xx59IX-YKN2z"
      },
      "source": [
        "# Question 2"
      ]
    },
    {
      "cell_type": "code",
      "metadata": {
        "id": "ejhA-KteKWcQ",
        "outputId": "4e79f85e-a5b6-4f24-a2c6-24b135c5ed52",
        "colab": {
          "base_uri": "https://localhost:8080/",
          "height": 402
        }
      },
      "source": [
        "department_pop = pd.read_csv(\"/content/sample_data/Departements.csv\", sep=\";\")\n",
        "department_pop"
      ],
      "execution_count": 30,
      "outputs": [
        {
          "output_type": "execute_result",
          "data": {
            "text/html": [
              "<div>\n",
              "<style scoped>\n",
              "    .dataframe tbody tr th:only-of-type {\n",
              "        vertical-align: middle;\n",
              "    }\n",
              "\n",
              "    .dataframe tbody tr th {\n",
              "        vertical-align: top;\n",
              "    }\n",
              "\n",
              "    .dataframe thead th {\n",
              "        text-align: right;\n",
              "    }\n",
              "</style>\n",
              "<table border=\"1\" class=\"dataframe\">\n",
              "  <thead>\n",
              "    <tr style=\"text-align: right;\">\n",
              "      <th></th>\n",
              "      <th>CODDEP</th>\n",
              "      <th>DEP</th>\n",
              "      <th>NBARR</th>\n",
              "      <th>NBCAN</th>\n",
              "      <th>NBCOM</th>\n",
              "      <th>PMUN</th>\n",
              "      <th>PTOT</th>\n",
              "      <th>Unnamed: 7</th>\n",
              "    </tr>\n",
              "  </thead>\n",
              "  <tbody>\n",
              "    <tr>\n",
              "      <th>0</th>\n",
              "      <td>01</td>\n",
              "      <td>Ain</td>\n",
              "      <td>4</td>\n",
              "      <td>23.0</td>\n",
              "      <td>393</td>\n",
              "      <td>643350</td>\n",
              "      <td>659180</td>\n",
              "      <td>NaN</td>\n",
              "    </tr>\n",
              "    <tr>\n",
              "      <th>1</th>\n",
              "      <td>02</td>\n",
              "      <td>Aisne</td>\n",
              "      <td>5</td>\n",
              "      <td>21.0</td>\n",
              "      <td>800</td>\n",
              "      <td>534490</td>\n",
              "      <td>546527</td>\n",
              "      <td>NaN</td>\n",
              "    </tr>\n",
              "    <tr>\n",
              "      <th>2</th>\n",
              "      <td>03</td>\n",
              "      <td>Allier</td>\n",
              "      <td>3</td>\n",
              "      <td>19.0</td>\n",
              "      <td>317</td>\n",
              "      <td>337988</td>\n",
              "      <td>347035</td>\n",
              "      <td>NaN</td>\n",
              "    </tr>\n",
              "    <tr>\n",
              "      <th>3</th>\n",
              "      <td>04</td>\n",
              "      <td>Alpes-de-Haute-Provence</td>\n",
              "      <td>4</td>\n",
              "      <td>15.0</td>\n",
              "      <td>198</td>\n",
              "      <td>163915</td>\n",
              "      <td>168381</td>\n",
              "      <td>NaN</td>\n",
              "    </tr>\n",
              "    <tr>\n",
              "      <th>4</th>\n",
              "      <td>05</td>\n",
              "      <td>Hautes-Alpes</td>\n",
              "      <td>2</td>\n",
              "      <td>15.0</td>\n",
              "      <td>162</td>\n",
              "      <td>141284</td>\n",
              "      <td>145883</td>\n",
              "      <td>NaN</td>\n",
              "    </tr>\n",
              "    <tr>\n",
              "      <th>...</th>\n",
              "      <td>...</td>\n",
              "      <td>...</td>\n",
              "      <td>...</td>\n",
              "      <td>...</td>\n",
              "      <td>...</td>\n",
              "      <td>...</td>\n",
              "      <td>...</td>\n",
              "      <td>...</td>\n",
              "    </tr>\n",
              "    <tr>\n",
              "      <th>95</th>\n",
              "      <td>95</td>\n",
              "      <td>Val-d'Oise</td>\n",
              "      <td>3</td>\n",
              "      <td>21.0</td>\n",
              "      <td>184</td>\n",
              "      <td>1228618</td>\n",
              "      <td>1239262</td>\n",
              "      <td>NaN</td>\n",
              "    </tr>\n",
              "    <tr>\n",
              "      <th>96</th>\n",
              "      <td>971</td>\n",
              "      <td>Guadeloupe</td>\n",
              "      <td>2</td>\n",
              "      <td>21.0</td>\n",
              "      <td>32</td>\n",
              "      <td>390253</td>\n",
              "      <td>396153</td>\n",
              "      <td>NaN</td>\n",
              "    </tr>\n",
              "    <tr>\n",
              "      <th>97</th>\n",
              "      <td>972</td>\n",
              "      <td>Martinique</td>\n",
              "      <td>4</td>\n",
              "      <td>NaN</td>\n",
              "      <td>34</td>\n",
              "      <td>372594</td>\n",
              "      <td>377711</td>\n",
              "      <td>NaN</td>\n",
              "    </tr>\n",
              "    <tr>\n",
              "      <th>98</th>\n",
              "      <td>973</td>\n",
              "      <td>Guyane</td>\n",
              "      <td>2</td>\n",
              "      <td>NaN</td>\n",
              "      <td>22</td>\n",
              "      <td>268700</td>\n",
              "      <td>271124</td>\n",
              "      <td>NaN</td>\n",
              "    </tr>\n",
              "    <tr>\n",
              "      <th>99</th>\n",
              "      <td>974</td>\n",
              "      <td>La Réunion</td>\n",
              "      <td>4</td>\n",
              "      <td>25.0</td>\n",
              "      <td>24</td>\n",
              "      <td>853659</td>\n",
              "      <td>863063</td>\n",
              "      <td>NaN</td>\n",
              "    </tr>\n",
              "  </tbody>\n",
              "</table>\n",
              "<p>100 rows × 8 columns</p>\n",
              "</div>"
            ],
            "text/plain": [
              "   CODDEP                      DEP  NBARR  ...     PMUN     PTOT  Unnamed: 7\n",
              "0      01                      Ain      4  ...   643350   659180         NaN\n",
              "1      02                    Aisne      5  ...   534490   546527         NaN\n",
              "2      03                   Allier      3  ...   337988   347035         NaN\n",
              "3      04  Alpes-de-Haute-Provence      4  ...   163915   168381         NaN\n",
              "4      05             Hautes-Alpes      2  ...   141284   145883         NaN\n",
              "..    ...                      ...    ...  ...      ...      ...         ...\n",
              "95     95               Val-d'Oise      3  ...  1228618  1239262         NaN\n",
              "96    971               Guadeloupe      2  ...   390253   396153         NaN\n",
              "97    972               Martinique      4  ...   372594   377711         NaN\n",
              "98    973                   Guyane      2  ...   268700   271124         NaN\n",
              "99    974               La Réunion      4  ...   853659   863063         NaN\n",
              "\n",
              "[100 rows x 8 columns]"
            ]
          },
          "metadata": {
            "tags": []
          },
          "execution_count": 30
        }
      ]
    },
    {
      "cell_type": "code",
      "metadata": {
        "id": "Lvkbo5RwMdXz",
        "outputId": "9404277c-ed74-46be-885c-4fcbf2c227e8",
        "colab": {
          "base_uri": "https://localhost:8080/"
        }
      },
      "source": [
        "ptot = department_pop.PTOT\n",
        "ptot"
      ],
      "execution_count": 31,
      "outputs": [
        {
          "output_type": "execute_result",
          "data": {
            "text/plain": [
              "0      659180\n",
              "1      546527\n",
              "2      347035\n",
              "3      168381\n",
              "4      145883\n",
              "       ...   \n",
              "95    1239262\n",
              "96     396153\n",
              "97     377711\n",
              "98     271124\n",
              "99     863063\n",
              "Name: PTOT, Length: 100, dtype: int64"
            ]
          },
          "metadata": {
            "tags": []
          },
          "execution_count": 31
        }
      ]
    },
    {
      "cell_type": "code",
      "metadata": {
        "id": "pD7GNp_bBXRl",
        "outputId": "5a8d91cb-94a9-423a-db91-375f027b553f",
        "colab": {
          "base_uri": "https://localhost:8080/",
          "height": 402
        }
      },
      "source": [
        "diff = dpt_sum_boys - dpt_sum_girls\n",
        "diff = diff.reset_index()\n",
        "type(diff)\n",
        "diff"
      ],
      "execution_count": 32,
      "outputs": [
        {
          "output_type": "execute_result",
          "data": {
            "text/html": [
              "<div>\n",
              "<style scoped>\n",
              "    .dataframe tbody tr th:only-of-type {\n",
              "        vertical-align: middle;\n",
              "    }\n",
              "\n",
              "    .dataframe tbody tr th {\n",
              "        vertical-align: top;\n",
              "    }\n",
              "\n",
              "    .dataframe thead th {\n",
              "        text-align: right;\n",
              "    }\n",
              "</style>\n",
              "<table border=\"1\" class=\"dataframe\">\n",
              "  <thead>\n",
              "    <tr style=\"text-align: right;\">\n",
              "      <th></th>\n",
              "      <th>dpt</th>\n",
              "      <th>nombre</th>\n",
              "    </tr>\n",
              "  </thead>\n",
              "  <tbody>\n",
              "    <tr>\n",
              "      <th>0</th>\n",
              "      <td>01</td>\n",
              "      <td>7052</td>\n",
              "    </tr>\n",
              "    <tr>\n",
              "      <th>1</th>\n",
              "      <td>02</td>\n",
              "      <td>14283</td>\n",
              "    </tr>\n",
              "    <tr>\n",
              "      <th>2</th>\n",
              "      <td>03</td>\n",
              "      <td>9138</td>\n",
              "    </tr>\n",
              "    <tr>\n",
              "      <th>3</th>\n",
              "      <td>04</td>\n",
              "      <td>4754</td>\n",
              "    </tr>\n",
              "    <tr>\n",
              "      <th>4</th>\n",
              "      <td>05</td>\n",
              "      <td>4331</td>\n",
              "    </tr>\n",
              "    <tr>\n",
              "      <th>...</th>\n",
              "      <td>...</td>\n",
              "      <td>...</td>\n",
              "    </tr>\n",
              "    <tr>\n",
              "      <th>95</th>\n",
              "      <td>971</td>\n",
              "      <td>35837</td>\n",
              "    </tr>\n",
              "    <tr>\n",
              "      <th>96</th>\n",
              "      <td>972</td>\n",
              "      <td>28965</td>\n",
              "    </tr>\n",
              "    <tr>\n",
              "      <th>97</th>\n",
              "      <td>973</td>\n",
              "      <td>14692</td>\n",
              "    </tr>\n",
              "    <tr>\n",
              "      <th>98</th>\n",
              "      <td>974</td>\n",
              "      <td>33876</td>\n",
              "    </tr>\n",
              "    <tr>\n",
              "      <th>99</th>\n",
              "      <td>XX</td>\n",
              "      <td>-906288</td>\n",
              "    </tr>\n",
              "  </tbody>\n",
              "</table>\n",
              "<p>100 rows × 2 columns</p>\n",
              "</div>"
            ],
            "text/plain": [
              "    dpt  nombre\n",
              "0    01    7052\n",
              "1    02   14283\n",
              "2    03    9138\n",
              "3    04    4754\n",
              "4    05    4331\n",
              "..  ...     ...\n",
              "95  971   35837\n",
              "96  972   28965\n",
              "97  973   14692\n",
              "98  974   33876\n",
              "99   XX -906288\n",
              "\n",
              "[100 rows x 2 columns]"
            ]
          },
          "metadata": {
            "tags": []
          },
          "execution_count": 32
        }
      ]
    },
    {
      "cell_type": "code",
      "metadata": {
        "id": "svsbWbPW5LiD",
        "outputId": "2e0e91de-3467-4535-bebc-fc33a5ebf153",
        "colab": {
          "base_uri": "https://localhost:8080/",
          "height": 402
        }
      },
      "source": [
        "diff.nombre = (diff.nombre * 1000) / department_pop.PTOT\n",
        "diff"
      ],
      "execution_count": 33,
      "outputs": [
        {
          "output_type": "execute_result",
          "data": {
            "text/html": [
              "<div>\n",
              "<style scoped>\n",
              "    .dataframe tbody tr th:only-of-type {\n",
              "        vertical-align: middle;\n",
              "    }\n",
              "\n",
              "    .dataframe tbody tr th {\n",
              "        vertical-align: top;\n",
              "    }\n",
              "\n",
              "    .dataframe thead th {\n",
              "        text-align: right;\n",
              "    }\n",
              "</style>\n",
              "<table border=\"1\" class=\"dataframe\">\n",
              "  <thead>\n",
              "    <tr style=\"text-align: right;\">\n",
              "      <th></th>\n",
              "      <th>dpt</th>\n",
              "      <th>nombre</th>\n",
              "    </tr>\n",
              "  </thead>\n",
              "  <tbody>\n",
              "    <tr>\n",
              "      <th>0</th>\n",
              "      <td>01</td>\n",
              "      <td>10.698140</td>\n",
              "    </tr>\n",
              "    <tr>\n",
              "      <th>1</th>\n",
              "      <td>02</td>\n",
              "      <td>26.134116</td>\n",
              "    </tr>\n",
              "    <tr>\n",
              "      <th>2</th>\n",
              "      <td>03</td>\n",
              "      <td>26.331638</td>\n",
              "    </tr>\n",
              "    <tr>\n",
              "      <th>3</th>\n",
              "      <td>04</td>\n",
              "      <td>28.233589</td>\n",
              "    </tr>\n",
              "    <tr>\n",
              "      <th>4</th>\n",
              "      <td>05</td>\n",
              "      <td>29.688175</td>\n",
              "    </tr>\n",
              "    <tr>\n",
              "      <th>...</th>\n",
              "      <td>...</td>\n",
              "      <td>...</td>\n",
              "    </tr>\n",
              "    <tr>\n",
              "      <th>95</th>\n",
              "      <td>971</td>\n",
              "      <td>28.918017</td>\n",
              "    </tr>\n",
              "    <tr>\n",
              "      <th>96</th>\n",
              "      <td>972</td>\n",
              "      <td>73.115690</td>\n",
              "    </tr>\n",
              "    <tr>\n",
              "      <th>97</th>\n",
              "      <td>973</td>\n",
              "      <td>38.897464</td>\n",
              "    </tr>\n",
              "    <tr>\n",
              "      <th>98</th>\n",
              "      <td>974</td>\n",
              "      <td>124.946519</td>\n",
              "    </tr>\n",
              "    <tr>\n",
              "      <th>99</th>\n",
              "      <td>XX</td>\n",
              "      <td>-1050.083250</td>\n",
              "    </tr>\n",
              "  </tbody>\n",
              "</table>\n",
              "<p>100 rows × 2 columns</p>\n",
              "</div>"
            ],
            "text/plain": [
              "    dpt       nombre\n",
              "0    01    10.698140\n",
              "1    02    26.134116\n",
              "2    03    26.331638\n",
              "3    04    28.233589\n",
              "4    05    29.688175\n",
              "..  ...          ...\n",
              "95  971    28.918017\n",
              "96  972    73.115690\n",
              "97  973    38.897464\n",
              "98  974   124.946519\n",
              "99   XX -1050.083250\n",
              "\n",
              "[100 rows x 2 columns]"
            ]
          },
          "metadata": {
            "tags": []
          },
          "execution_count": 33
        }
      ]
    },
    {
      "cell_type": "code",
      "metadata": {
        "id": "q9dnqyE1FMwt",
        "outputId": "e6009abb-f97f-4211-952b-6376f5676794",
        "colab": {
          "base_uri": "https://localhost:8080/",
          "height": 402
        }
      },
      "source": [
        "diff[\"code_insee\"]=diff.dpt\n",
        "diff"
      ],
      "execution_count": 34,
      "outputs": [
        {
          "output_type": "execute_result",
          "data": {
            "text/html": [
              "<div>\n",
              "<style scoped>\n",
              "    .dataframe tbody tr th:only-of-type {\n",
              "        vertical-align: middle;\n",
              "    }\n",
              "\n",
              "    .dataframe tbody tr th {\n",
              "        vertical-align: top;\n",
              "    }\n",
              "\n",
              "    .dataframe thead th {\n",
              "        text-align: right;\n",
              "    }\n",
              "</style>\n",
              "<table border=\"1\" class=\"dataframe\">\n",
              "  <thead>\n",
              "    <tr style=\"text-align: right;\">\n",
              "      <th></th>\n",
              "      <th>dpt</th>\n",
              "      <th>nombre</th>\n",
              "      <th>code_insee</th>\n",
              "    </tr>\n",
              "  </thead>\n",
              "  <tbody>\n",
              "    <tr>\n",
              "      <th>0</th>\n",
              "      <td>01</td>\n",
              "      <td>10.698140</td>\n",
              "      <td>01</td>\n",
              "    </tr>\n",
              "    <tr>\n",
              "      <th>1</th>\n",
              "      <td>02</td>\n",
              "      <td>26.134116</td>\n",
              "      <td>02</td>\n",
              "    </tr>\n",
              "    <tr>\n",
              "      <th>2</th>\n",
              "      <td>03</td>\n",
              "      <td>26.331638</td>\n",
              "      <td>03</td>\n",
              "    </tr>\n",
              "    <tr>\n",
              "      <th>3</th>\n",
              "      <td>04</td>\n",
              "      <td>28.233589</td>\n",
              "      <td>04</td>\n",
              "    </tr>\n",
              "    <tr>\n",
              "      <th>4</th>\n",
              "      <td>05</td>\n",
              "      <td>29.688175</td>\n",
              "      <td>05</td>\n",
              "    </tr>\n",
              "    <tr>\n",
              "      <th>...</th>\n",
              "      <td>...</td>\n",
              "      <td>...</td>\n",
              "      <td>...</td>\n",
              "    </tr>\n",
              "    <tr>\n",
              "      <th>95</th>\n",
              "      <td>971</td>\n",
              "      <td>28.918017</td>\n",
              "      <td>971</td>\n",
              "    </tr>\n",
              "    <tr>\n",
              "      <th>96</th>\n",
              "      <td>972</td>\n",
              "      <td>73.115690</td>\n",
              "      <td>972</td>\n",
              "    </tr>\n",
              "    <tr>\n",
              "      <th>97</th>\n",
              "      <td>973</td>\n",
              "      <td>38.897464</td>\n",
              "      <td>973</td>\n",
              "    </tr>\n",
              "    <tr>\n",
              "      <th>98</th>\n",
              "      <td>974</td>\n",
              "      <td>124.946519</td>\n",
              "      <td>974</td>\n",
              "    </tr>\n",
              "    <tr>\n",
              "      <th>99</th>\n",
              "      <td>XX</td>\n",
              "      <td>-1050.083250</td>\n",
              "      <td>XX</td>\n",
              "    </tr>\n",
              "  </tbody>\n",
              "</table>\n",
              "<p>100 rows × 3 columns</p>\n",
              "</div>"
            ],
            "text/plain": [
              "    dpt       nombre code_insee\n",
              "0    01    10.698140         01\n",
              "1    02    26.134116         02\n",
              "2    03    26.331638         03\n",
              "3    04    28.233589         04\n",
              "4    05    29.688175         05\n",
              "..  ...          ...        ...\n",
              "95  971    28.918017        971\n",
              "96  972    73.115690        972\n",
              "97  973    38.897464        973\n",
              "98  974   124.946519        974\n",
              "99   XX -1050.083250         XX\n",
              "\n",
              "[100 rows x 3 columns]"
            ]
          },
          "metadata": {
            "tags": []
          },
          "execution_count": 34
        }
      ]
    },
    {
      "cell_type": "code",
      "metadata": {
        "id": "bOnvxXmdFMlR",
        "outputId": "6602f630-c073-427e-f5d0-78f78ec4bb97",
        "colab": {
          "base_uri": "https://localhost:8080/",
          "height": 402
        }
      },
      "source": [
        "merged_diff = map_df.merge(diff, on='code_insee')\n",
        "\n",
        "merged_diff.head()\n",
        "\n",
        "merged_diff"
      ],
      "execution_count": 35,
      "outputs": [
        {
          "output_type": "execute_result",
          "data": {
            "text/html": [
              "<div>\n",
              "<style scoped>\n",
              "    .dataframe tbody tr th:only-of-type {\n",
              "        vertical-align: middle;\n",
              "    }\n",
              "\n",
              "    .dataframe tbody tr th {\n",
              "        vertical-align: top;\n",
              "    }\n",
              "\n",
              "    .dataframe thead th {\n",
              "        text-align: right;\n",
              "    }\n",
              "</style>\n",
              "<table border=\"1\" class=\"dataframe\">\n",
              "  <thead>\n",
              "    <tr style=\"text-align: right;\">\n",
              "      <th></th>\n",
              "      <th>code_insee</th>\n",
              "      <th>nom</th>\n",
              "      <th>nuts3</th>\n",
              "      <th>wikipedia</th>\n",
              "      <th>geometry</th>\n",
              "      <th>dpt</th>\n",
              "      <th>nombre</th>\n",
              "    </tr>\n",
              "  </thead>\n",
              "  <tbody>\n",
              "    <tr>\n",
              "      <th>0</th>\n",
              "      <td>01</td>\n",
              "      <td>Ain</td>\n",
              "      <td>FR711</td>\n",
              "      <td>b'fr:Ain (d\\xe9partement)'</td>\n",
              "      <td>POLYGON ((5.25559 45.78459, 5.23987 45.77758, ...</td>\n",
              "      <td>01</td>\n",
              "      <td>10.698140</td>\n",
              "    </tr>\n",
              "    <tr>\n",
              "      <th>1</th>\n",
              "      <td>02</td>\n",
              "      <td>Aisne</td>\n",
              "      <td>FR221</td>\n",
              "      <td>b'fr:Aisne (d\\xe9partement)'</td>\n",
              "      <td>POLYGON ((3.48175 48.86640, 3.48647 48.85768, ...</td>\n",
              "      <td>02</td>\n",
              "      <td>26.134116</td>\n",
              "    </tr>\n",
              "    <tr>\n",
              "      <th>2</th>\n",
              "      <td>03</td>\n",
              "      <td>Allier</td>\n",
              "      <td>FR721</td>\n",
              "      <td>b'fr:Allier (d\\xe9partement)'</td>\n",
              "      <td>POLYGON ((2.38613 46.33196, 2.38407 46.33112, ...</td>\n",
              "      <td>03</td>\n",
              "      <td>26.331638</td>\n",
              "    </tr>\n",
              "    <tr>\n",
              "      <th>3</th>\n",
              "      <td>04</td>\n",
              "      <td>Alpes-de-Haute-Provence</td>\n",
              "      <td>FR821</td>\n",
              "      <td>fr:Alpes-de-Haute-Provence</td>\n",
              "      <td>POLYGON ((6.66579 43.83120, 6.67673 43.83178, ...</td>\n",
              "      <td>04</td>\n",
              "      <td>28.233589</td>\n",
              "    </tr>\n",
              "    <tr>\n",
              "      <th>4</th>\n",
              "      <td>05</td>\n",
              "      <td>Hautes-Alpes</td>\n",
              "      <td>FR822</td>\n",
              "      <td>fr:Hautes-Alpes</td>\n",
              "      <td>POLYGON ((6.24158 44.44686, 6.24411 44.44693, ...</td>\n",
              "      <td>05</td>\n",
              "      <td>29.688175</td>\n",
              "    </tr>\n",
              "    <tr>\n",
              "      <th>...</th>\n",
              "      <td>...</td>\n",
              "      <td>...</td>\n",
              "      <td>...</td>\n",
              "      <td>...</td>\n",
              "      <td>...</td>\n",
              "      <td>...</td>\n",
              "      <td>...</td>\n",
              "    </tr>\n",
              "    <tr>\n",
              "      <th>89</th>\n",
              "      <td>91</td>\n",
              "      <td>Essonne</td>\n",
              "      <td>FR104</td>\n",
              "      <td>b'fr:Essonne (d\\xe9partement)'</td>\n",
              "      <td>POLYGON ((2.39233 48.33593, 2.39427 48.33263, ...</td>\n",
              "      <td>91</td>\n",
              "      <td>165.222466</td>\n",
              "    </tr>\n",
              "    <tr>\n",
              "      <th>90</th>\n",
              "      <td>92</td>\n",
              "      <td>Hauts-de-Seine</td>\n",
              "      <td>FR105</td>\n",
              "      <td>fr:Hauts-de-Seine</td>\n",
              "      <td>POLYGON ((2.31993 48.77075, 2.31588 48.76670, ...</td>\n",
              "      <td>92</td>\n",
              "      <td>31.574112</td>\n",
              "    </tr>\n",
              "    <tr>\n",
              "      <th>91</th>\n",
              "      <td>93</td>\n",
              "      <td>Seine-Saint-Denis</td>\n",
              "      <td>FR106</td>\n",
              "      <td>fr:Seine-Saint-Denis</td>\n",
              "      <td>POLYGON ((2.41899 48.84939, 2.41636 48.84924, ...</td>\n",
              "      <td>93</td>\n",
              "      <td>22.386752</td>\n",
              "    </tr>\n",
              "    <tr>\n",
              "      <th>92</th>\n",
              "      <td>94</td>\n",
              "      <td>Val-de-Marne</td>\n",
              "      <td>FR107</td>\n",
              "      <td>fr:Val-de-Marne</td>\n",
              "      <td>POLYGON ((2.41450 48.71780, 2.41320 48.71868, ...</td>\n",
              "      <td>94</td>\n",
              "      <td>17.965405</td>\n",
              "    </tr>\n",
              "    <tr>\n",
              "      <th>93</th>\n",
              "      <td>95</td>\n",
              "      <td>Val-d'Oise</td>\n",
              "      <td>FR108</td>\n",
              "      <td>fr:Val-d'Oise</td>\n",
              "      <td>POLYGON ((1.79674 49.07196, 1.79991 49.06425, ...</td>\n",
              "      <td>95</td>\n",
              "      <td>19.328793</td>\n",
              "    </tr>\n",
              "  </tbody>\n",
              "</table>\n",
              "<p>94 rows × 7 columns</p>\n",
              "</div>"
            ],
            "text/plain": [
              "   code_insee                      nom  ... dpt      nombre\n",
              "0          01                      Ain  ...  01   10.698140\n",
              "1          02                    Aisne  ...  02   26.134116\n",
              "2          03                   Allier  ...  03   26.331638\n",
              "3          04  Alpes-de-Haute-Provence  ...  04   28.233589\n",
              "4          05             Hautes-Alpes  ...  05   29.688175\n",
              "..        ...                      ...  ...  ..         ...\n",
              "89         91                  Essonne  ...  91  165.222466\n",
              "90         92           Hauts-de-Seine  ...  92   31.574112\n",
              "91         93        Seine-Saint-Denis  ...  93   22.386752\n",
              "92         94             Val-de-Marne  ...  94   17.965405\n",
              "93         95               Val-d'Oise  ...  95   19.328793\n",
              "\n",
              "[94 rows x 7 columns]"
            ]
          },
          "metadata": {
            "tags": []
          },
          "execution_count": 35
        }
      ]
    },
    {
      "cell_type": "code",
      "metadata": {
        "id": "vLXEEz9aFgjP",
        "outputId": "f19f55f2-707c-40a9-a7a2-c45c6a0ec2f1",
        "colab": {
          "base_uri": "https://localhost:8080/",
          "height": 391
        }
      },
      "source": [
        "fig, ax = plt.subplots(1, figsize=(8, 6))\n",
        "merged_diff.plot(column=\"nombre\",   ax=ax, linewidth=0.3,edgecolor=\"0.8\",legend=True,legend_kwds\n",
        "            ={\"label\": \"Disparity by Departement weighted\"})"
      ],
      "execution_count": 36,
      "outputs": [
        {
          "output_type": "execute_result",
          "data": {
            "text/plain": [
              "<matplotlib.axes._subplots.AxesSubplot at 0x7f88054729e8>"
            ]
          },
          "metadata": {
            "tags": []
          },
          "execution_count": 36
        },
        {
          "output_type": "display_data",
          "data": {
            "image/png": "[encoded data removed]",
            "text/plain": [
              "<Figure size 576x432 with 2 Axes>"
            ]
          },
          "metadata": {
            "tags": [],
            "needs_background": "light"
          }
        }
      ]
    },
    {
      "cell_type": "markdown",
      "metadata": {
        "id": "V0MRqNwS5Hfh"
      },
      "source": [
        "# Question 3\n"
      ]
    },
    {
      "cell_type": "code",
      "metadata": {
        "id": "FRhceI14I4Gp",
        "outputId": "f5c8a4ad-b2b0-47a6-87f4-cb6694489fd0",
        "colab": {
          "base_uri": "https://localhost:8080/",
          "height": 402
        }
      },
      "source": [
        "emma = prenoms[prenoms.preusuel == \"EMMA\"]\n",
        "emma"
      ],
      "execution_count": 37,
      "outputs": [
        {
          "output_type": "execute_result",
          "data": {
            "text/html": [
              "<div>\n",
              "<style scoped>\n",
              "    .dataframe tbody tr th:only-of-type {\n",
              "        vertical-align: middle;\n",
              "    }\n",
              "\n",
              "    .dataframe tbody tr th {\n",
              "        vertical-align: top;\n",
              "    }\n",
              "\n",
              "    .dataframe thead th {\n",
              "        text-align: right;\n",
              "    }\n",
              "</style>\n",
              "<table border=\"1\" class=\"dataframe\">\n",
              "  <thead>\n",
              "    <tr style=\"text-align: right;\">\n",
              "      <th></th>\n",
              "      <th>sexe</th>\n",
              "      <th>preusuel</th>\n",
              "      <th>annais</th>\n",
              "      <th>dpt</th>\n",
              "      <th>nombre</th>\n",
              "    </tr>\n",
              "  </thead>\n",
              "  <tbody>\n",
              "    <tr>\n",
              "      <th>445563</th>\n",
              "      <td>1</td>\n",
              "      <td>EMMA</td>\n",
              "      <td>1906</td>\n",
              "      <td>972</td>\n",
              "      <td>3</td>\n",
              "    </tr>\n",
              "    <tr>\n",
              "      <th>445564</th>\n",
              "      <td>1</td>\n",
              "      <td>EMMA</td>\n",
              "      <td>1909</td>\n",
              "      <td>972</td>\n",
              "      <td>3</td>\n",
              "    </tr>\n",
              "    <tr>\n",
              "      <th>445565</th>\n",
              "      <td>1</td>\n",
              "      <td>EMMA</td>\n",
              "      <td>1910</td>\n",
              "      <td>972</td>\n",
              "      <td>5</td>\n",
              "    </tr>\n",
              "    <tr>\n",
              "      <th>445566</th>\n",
              "      <td>1</td>\n",
              "      <td>EMMA</td>\n",
              "      <td>1913</td>\n",
              "      <td>972</td>\n",
              "      <td>6</td>\n",
              "    </tr>\n",
              "    <tr>\n",
              "      <th>445567</th>\n",
              "      <td>1</td>\n",
              "      <td>EMMA</td>\n",
              "      <td>1919</td>\n",
              "      <td>972</td>\n",
              "      <td>3</td>\n",
              "    </tr>\n",
              "    <tr>\n",
              "      <th>...</th>\n",
              "      <td>...</td>\n",
              "      <td>...</td>\n",
              "      <td>...</td>\n",
              "      <td>...</td>\n",
              "      <td>...</td>\n",
              "    </tr>\n",
              "    <tr>\n",
              "      <th>2343887</th>\n",
              "      <td>2</td>\n",
              "      <td>EMMA</td>\n",
              "      <td>2019</td>\n",
              "      <td>971</td>\n",
              "      <td>10</td>\n",
              "    </tr>\n",
              "    <tr>\n",
              "      <th>2343888</th>\n",
              "      <td>2</td>\n",
              "      <td>EMMA</td>\n",
              "      <td>2019</td>\n",
              "      <td>972</td>\n",
              "      <td>11</td>\n",
              "    </tr>\n",
              "    <tr>\n",
              "      <th>2343889</th>\n",
              "      <td>2</td>\n",
              "      <td>EMMA</td>\n",
              "      <td>2019</td>\n",
              "      <td>973</td>\n",
              "      <td>7</td>\n",
              "    </tr>\n",
              "    <tr>\n",
              "      <th>2343890</th>\n",
              "      <td>2</td>\n",
              "      <td>EMMA</td>\n",
              "      <td>2019</td>\n",
              "      <td>974</td>\n",
              "      <td>56</td>\n",
              "    </tr>\n",
              "    <tr>\n",
              "      <th>2343891</th>\n",
              "      <td>2</td>\n",
              "      <td>EMMA</td>\n",
              "      <td>XXXX</td>\n",
              "      <td>XX</td>\n",
              "      <td>3624</td>\n",
              "    </tr>\n",
              "  </tbody>\n",
              "</table>\n",
              "<p>5145 rows × 5 columns</p>\n",
              "</div>"
            ],
            "text/plain": [
              "         sexe preusuel annais  dpt  nombre\n",
              "445563      1     EMMA   1906  972       3\n",
              "445564      1     EMMA   1909  972       3\n",
              "445565      1     EMMA   1910  972       5\n",
              "445566      1     EMMA   1913  972       6\n",
              "445567      1     EMMA   1919  972       3\n",
              "...       ...      ...    ...  ...     ...\n",
              "2343887     2     EMMA   2019  971      10\n",
              "2343888     2     EMMA   2019  972      11\n",
              "2343889     2     EMMA   2019  973       7\n",
              "2343890     2     EMMA   2019  974      56\n",
              "2343891     2     EMMA   XXXX   XX    3624\n",
              "\n",
              "[5145 rows x 5 columns]"
            ]
          },
          "metadata": {
            "tags": []
          },
          "execution_count": 37
        }
      ]
    },
    {
      "cell_type": "code",
      "metadata": {
        "id": "bcBRb9L7K08n",
        "outputId": "921f61c0-5690-46bb-9450-9b4ae776d42a",
        "colab": {
          "base_uri": "https://localhost:8080/",
          "height": 402
        }
      },
      "source": [
        "emma = emma[emma.annais == \"2018\"]\n",
        "emma"
      ],
      "execution_count": 38,
      "outputs": [
        {
          "output_type": "execute_result",
          "data": {
            "text/html": [
              "<div>\n",
              "<style scoped>\n",
              "    .dataframe tbody tr th:only-of-type {\n",
              "        vertical-align: middle;\n",
              "    }\n",
              "\n",
              "    .dataframe tbody tr th {\n",
              "        vertical-align: top;\n",
              "    }\n",
              "\n",
              "    .dataframe thead th {\n",
              "        text-align: right;\n",
              "    }\n",
              "</style>\n",
              "<table border=\"1\" class=\"dataframe\">\n",
              "  <thead>\n",
              "    <tr style=\"text-align: right;\">\n",
              "      <th></th>\n",
              "      <th>sexe</th>\n",
              "      <th>preusuel</th>\n",
              "      <th>annais</th>\n",
              "      <th>dpt</th>\n",
              "      <th>nombre</th>\n",
              "    </tr>\n",
              "  </thead>\n",
              "  <tbody>\n",
              "    <tr>\n",
              "      <th>2343695</th>\n",
              "      <td>2</td>\n",
              "      <td>EMMA</td>\n",
              "      <td>2018</td>\n",
              "      <td>01</td>\n",
              "      <td>37</td>\n",
              "    </tr>\n",
              "    <tr>\n",
              "      <th>2343696</th>\n",
              "      <td>2</td>\n",
              "      <td>EMMA</td>\n",
              "      <td>2018</td>\n",
              "      <td>02</td>\n",
              "      <td>38</td>\n",
              "    </tr>\n",
              "    <tr>\n",
              "      <th>2343697</th>\n",
              "      <td>2</td>\n",
              "      <td>EMMA</td>\n",
              "      <td>2018</td>\n",
              "      <td>03</td>\n",
              "      <td>28</td>\n",
              "    </tr>\n",
              "    <tr>\n",
              "      <th>2343698</th>\n",
              "      <td>2</td>\n",
              "      <td>EMMA</td>\n",
              "      <td>2018</td>\n",
              "      <td>04</td>\n",
              "      <td>6</td>\n",
              "    </tr>\n",
              "    <tr>\n",
              "      <th>2343699</th>\n",
              "      <td>2</td>\n",
              "      <td>EMMA</td>\n",
              "      <td>2018</td>\n",
              "      <td>05</td>\n",
              "      <td>10</td>\n",
              "    </tr>\n",
              "    <tr>\n",
              "      <th>...</th>\n",
              "      <td>...</td>\n",
              "      <td>...</td>\n",
              "      <td>...</td>\n",
              "      <td>...</td>\n",
              "      <td>...</td>\n",
              "    </tr>\n",
              "    <tr>\n",
              "      <th>2343788</th>\n",
              "      <td>2</td>\n",
              "      <td>EMMA</td>\n",
              "      <td>2018</td>\n",
              "      <td>95</td>\n",
              "      <td>79</td>\n",
              "    </tr>\n",
              "    <tr>\n",
              "      <th>2343789</th>\n",
              "      <td>2</td>\n",
              "      <td>EMMA</td>\n",
              "      <td>2018</td>\n",
              "      <td>971</td>\n",
              "      <td>17</td>\n",
              "    </tr>\n",
              "    <tr>\n",
              "      <th>2343790</th>\n",
              "      <td>2</td>\n",
              "      <td>EMMA</td>\n",
              "      <td>2018</td>\n",
              "      <td>972</td>\n",
              "      <td>11</td>\n",
              "    </tr>\n",
              "    <tr>\n",
              "      <th>2343791</th>\n",
              "      <td>2</td>\n",
              "      <td>EMMA</td>\n",
              "      <td>2018</td>\n",
              "      <td>973</td>\n",
              "      <td>11</td>\n",
              "    </tr>\n",
              "    <tr>\n",
              "      <th>2343792</th>\n",
              "      <td>2</td>\n",
              "      <td>EMMA</td>\n",
              "      <td>2018</td>\n",
              "      <td>974</td>\n",
              "      <td>43</td>\n",
              "    </tr>\n",
              "  </tbody>\n",
              "</table>\n",
              "<p>98 rows × 5 columns</p>\n",
              "</div>"
            ],
            "text/plain": [
              "         sexe preusuel annais  dpt  nombre\n",
              "2343695     2     EMMA   2018   01      37\n",
              "2343696     2     EMMA   2018   02      38\n",
              "2343697     2     EMMA   2018   03      28\n",
              "2343698     2     EMMA   2018   04       6\n",
              "2343699     2     EMMA   2018   05      10\n",
              "...       ...      ...    ...  ...     ...\n",
              "2343788     2     EMMA   2018   95      79\n",
              "2343789     2     EMMA   2018  971      17\n",
              "2343790     2     EMMA   2018  972      11\n",
              "2343791     2     EMMA   2018  973      11\n",
              "2343792     2     EMMA   2018  974      43\n",
              "\n",
              "[98 rows x 5 columns]"
            ]
          },
          "metadata": {
            "tags": []
          },
          "execution_count": 38
        }
      ]
    },
    {
      "cell_type": "code",
      "metadata": {
        "id": "5qad-HHSCCWL",
        "outputId": "bf0457b2-c53f-4ecc-a85e-5cdcd794387d",
        "colab": {
          "base_uri": "https://localhost:8080/"
        }
      },
      "source": [
        "dpt_emma = emma[(emma.preusuel==\"EMMA\")].groupby(emma.dpt).nombre.sum()\n",
        "dpt_emma"
      ],
      "execution_count": 39,
      "outputs": [
        {
          "output_type": "execute_result",
          "data": {
            "text/plain": [
              "dpt\n",
              "01     37\n",
              "02     38\n",
              "03     28\n",
              "04      6\n",
              "05     10\n",
              "       ..\n",
              "95     79\n",
              "971    17\n",
              "972    11\n",
              "973    11\n",
              "974    43\n",
              "Name: nombre, Length: 98, dtype: int64"
            ]
          },
          "metadata": {
            "tags": []
          },
          "execution_count": 39
        }
      ]
    },
    {
      "cell_type": "code",
      "metadata": {
        "id": "8d9hNo4sLrZm",
        "outputId": "910631b9-8c0e-459b-f3c7-5b4fca574097",
        "colab": {
          "base_uri": "https://localhost:8080/"
        }
      },
      "source": [
        "type(dpt_emma)"
      ],
      "execution_count": 40,
      "outputs": [
        {
          "output_type": "execute_result",
          "data": {
            "text/plain": [
              "pandas.core.series.Series"
            ]
          },
          "metadata": {
            "tags": []
          },
          "execution_count": 40
        }
      ]
    },
    {
      "cell_type": "code",
      "metadata": {
        "id": "cAXgyD0sNhUU",
        "outputId": "b454579d-276e-4f19-e4d8-46b48000a355",
        "colab": {
          "base_uri": "https://localhost:8080/"
        }
      },
      "source": [
        "dpt_emma = dpt_emma.reset_index()\n",
        "type(dpt_emma)"
      ],
      "execution_count": 41,
      "outputs": [
        {
          "output_type": "execute_result",
          "data": {
            "text/plain": [
              "pandas.core.frame.DataFrame"
            ]
          },
          "metadata": {
            "tags": []
          },
          "execution_count": 41
        }
      ]
    },
    {
      "cell_type": "code",
      "metadata": {
        "id": "ZlmWuMrJNsX7",
        "outputId": "632f3833-f33f-4d90-c5f7-f1d8a195f94b",
        "colab": {
          "base_uri": "https://localhost:8080/",
          "height": 402
        }
      },
      "source": [
        "dpt_emma"
      ],
      "execution_count": 42,
      "outputs": [
        {
          "output_type": "execute_result",
          "data": {
            "text/html": [
              "<div>\n",
              "<style scoped>\n",
              "    .dataframe tbody tr th:only-of-type {\n",
              "        vertical-align: middle;\n",
              "    }\n",
              "\n",
              "    .dataframe tbody tr th {\n",
              "        vertical-align: top;\n",
              "    }\n",
              "\n",
              "    .dataframe thead th {\n",
              "        text-align: right;\n",
              "    }\n",
              "</style>\n",
              "<table border=\"1\" class=\"dataframe\">\n",
              "  <thead>\n",
              "    <tr style=\"text-align: right;\">\n",
              "      <th></th>\n",
              "      <th>dpt</th>\n",
              "      <th>nombre</th>\n",
              "    </tr>\n",
              "  </thead>\n",
              "  <tbody>\n",
              "    <tr>\n",
              "      <th>0</th>\n",
              "      <td>01</td>\n",
              "      <td>37</td>\n",
              "    </tr>\n",
              "    <tr>\n",
              "      <th>1</th>\n",
              "      <td>02</td>\n",
              "      <td>38</td>\n",
              "    </tr>\n",
              "    <tr>\n",
              "      <th>2</th>\n",
              "      <td>03</td>\n",
              "      <td>28</td>\n",
              "    </tr>\n",
              "    <tr>\n",
              "      <th>3</th>\n",
              "      <td>04</td>\n",
              "      <td>6</td>\n",
              "    </tr>\n",
              "    <tr>\n",
              "      <th>4</th>\n",
              "      <td>05</td>\n",
              "      <td>10</td>\n",
              "    </tr>\n",
              "    <tr>\n",
              "      <th>...</th>\n",
              "      <td>...</td>\n",
              "      <td>...</td>\n",
              "    </tr>\n",
              "    <tr>\n",
              "      <th>93</th>\n",
              "      <td>95</td>\n",
              "      <td>79</td>\n",
              "    </tr>\n",
              "    <tr>\n",
              "      <th>94</th>\n",
              "      <td>971</td>\n",
              "      <td>17</td>\n",
              "    </tr>\n",
              "    <tr>\n",
              "      <th>95</th>\n",
              "      <td>972</td>\n",
              "      <td>11</td>\n",
              "    </tr>\n",
              "    <tr>\n",
              "      <th>96</th>\n",
              "      <td>973</td>\n",
              "      <td>11</td>\n",
              "    </tr>\n",
              "    <tr>\n",
              "      <th>97</th>\n",
              "      <td>974</td>\n",
              "      <td>43</td>\n",
              "    </tr>\n",
              "  </tbody>\n",
              "</table>\n",
              "<p>98 rows × 2 columns</p>\n",
              "</div>"
            ],
            "text/plain": [
              "    dpt  nombre\n",
              "0    01      37\n",
              "1    02      38\n",
              "2    03      28\n",
              "3    04       6\n",
              "4    05      10\n",
              "..  ...     ...\n",
              "93   95      79\n",
              "94  971      17\n",
              "95  972      11\n",
              "96  973      11\n",
              "97  974      43\n",
              "\n",
              "[98 rows x 2 columns]"
            ]
          },
          "metadata": {
            "tags": []
          },
          "execution_count": 42
        }
      ]
    },
    {
      "cell_type": "code",
      "metadata": {
        "id": "dIh0ZkthNyKv",
        "outputId": "8f7dbf5e-9f11-437c-cc51-a874824541bc",
        "colab": {
          "base_uri": "https://localhost:8080/",
          "height": 402
        }
      },
      "source": [
        "dpt_emma[\"code_insee\"]=dpt_emma.dpt\n",
        "dpt_emma"
      ],
      "execution_count": 43,
      "outputs": [
        {
          "output_type": "execute_result",
          "data": {
            "text/html": [
              "<div>\n",
              "<style scoped>\n",
              "    .dataframe tbody tr th:only-of-type {\n",
              "        vertical-align: middle;\n",
              "    }\n",
              "\n",
              "    .dataframe tbody tr th {\n",
              "        vertical-align: top;\n",
              "    }\n",
              "\n",
              "    .dataframe thead th {\n",
              "        text-align: right;\n",
              "    }\n",
              "</style>\n",
              "<table border=\"1\" class=\"dataframe\">\n",
              "  <thead>\n",
              "    <tr style=\"text-align: right;\">\n",
              "      <th></th>\n",
              "      <th>dpt</th>\n",
              "      <th>nombre</th>\n",
              "      <th>code_insee</th>\n",
              "    </tr>\n",
              "  </thead>\n",
              "  <tbody>\n",
              "    <tr>\n",
              "      <th>0</th>\n",
              "      <td>01</td>\n",
              "      <td>37</td>\n",
              "      <td>01</td>\n",
              "    </tr>\n",
              "    <tr>\n",
              "      <th>1</th>\n",
              "      <td>02</td>\n",
              "      <td>38</td>\n",
              "      <td>02</td>\n",
              "    </tr>\n",
              "    <tr>\n",
              "      <th>2</th>\n",
              "      <td>03</td>\n",
              "      <td>28</td>\n",
              "      <td>03</td>\n",
              "    </tr>\n",
              "    <tr>\n",
              "      <th>3</th>\n",
              "      <td>04</td>\n",
              "      <td>6</td>\n",
              "      <td>04</td>\n",
              "    </tr>\n",
              "    <tr>\n",
              "      <th>4</th>\n",
              "      <td>05</td>\n",
              "      <td>10</td>\n",
              "      <td>05</td>\n",
              "    </tr>\n",
              "    <tr>\n",
              "      <th>...</th>\n",
              "      <td>...</td>\n",
              "      <td>...</td>\n",
              "      <td>...</td>\n",
              "    </tr>\n",
              "    <tr>\n",
              "      <th>93</th>\n",
              "      <td>95</td>\n",
              "      <td>79</td>\n",
              "      <td>95</td>\n",
              "    </tr>\n",
              "    <tr>\n",
              "      <th>94</th>\n",
              "      <td>971</td>\n",
              "      <td>17</td>\n",
              "      <td>971</td>\n",
              "    </tr>\n",
              "    <tr>\n",
              "      <th>95</th>\n",
              "      <td>972</td>\n",
              "      <td>11</td>\n",
              "      <td>972</td>\n",
              "    </tr>\n",
              "    <tr>\n",
              "      <th>96</th>\n",
              "      <td>973</td>\n",
              "      <td>11</td>\n",
              "      <td>973</td>\n",
              "    </tr>\n",
              "    <tr>\n",
              "      <th>97</th>\n",
              "      <td>974</td>\n",
              "      <td>43</td>\n",
              "      <td>974</td>\n",
              "    </tr>\n",
              "  </tbody>\n",
              "</table>\n",
              "<p>98 rows × 3 columns</p>\n",
              "</div>"
            ],
            "text/plain": [
              "    dpt  nombre code_insee\n",
              "0    01      37         01\n",
              "1    02      38         02\n",
              "2    03      28         03\n",
              "3    04       6         04\n",
              "4    05      10         05\n",
              "..  ...     ...        ...\n",
              "93   95      79         95\n",
              "94  971      17        971\n",
              "95  972      11        972\n",
              "96  973      11        973\n",
              "97  974      43        974\n",
              "\n",
              "[98 rows x 3 columns]"
            ]
          },
          "metadata": {
            "tags": []
          },
          "execution_count": 43
        }
      ]
    },
    {
      "cell_type": "code",
      "metadata": {
        "id": "lo_RYRAMN9cd",
        "outputId": "591ae968-c3eb-4475-e379-1cc032f0a4b1",
        "colab": {
          "base_uri": "https://localhost:8080/",
          "height": 402
        }
      },
      "source": [
        "merged_emma = map_df.merge(dpt_emma, on='code_insee')\n",
        "\n",
        "merged_emma.head()\n",
        "\n",
        "merged_emma"
      ],
      "execution_count": 44,
      "outputs": [
        {
          "output_type": "execute_result",
          "data": {
            "text/html": [
              "<div>\n",
              "<style scoped>\n",
              "    .dataframe tbody tr th:only-of-type {\n",
              "        vertical-align: middle;\n",
              "    }\n",
              "\n",
              "    .dataframe tbody tr th {\n",
              "        vertical-align: top;\n",
              "    }\n",
              "\n",
              "    .dataframe thead th {\n",
              "        text-align: right;\n",
              "    }\n",
              "</style>\n",
              "<table border=\"1\" class=\"dataframe\">\n",
              "  <thead>\n",
              "    <tr style=\"text-align: right;\">\n",
              "      <th></th>\n",
              "      <th>code_insee</th>\n",
              "      <th>nom</th>\n",
              "      <th>nuts3</th>\n",
              "      <th>wikipedia</th>\n",
              "      <th>geometry</th>\n",
              "      <th>dpt</th>\n",
              "      <th>nombre</th>\n",
              "    </tr>\n",
              "  </thead>\n",
              "  <tbody>\n",
              "    <tr>\n",
              "      <th>0</th>\n",
              "      <td>01</td>\n",
              "      <td>Ain</td>\n",
              "      <td>FR711</td>\n",
              "      <td>b'fr:Ain (d\\xe9partement)'</td>\n",
              "      <td>POLYGON ((5.25559 45.78459, 5.23987 45.77758, ...</td>\n",
              "      <td>01</td>\n",
              "      <td>37</td>\n",
              "    </tr>\n",
              "    <tr>\n",
              "      <th>1</th>\n",
              "      <td>02</td>\n",
              "      <td>Aisne</td>\n",
              "      <td>FR221</td>\n",
              "      <td>b'fr:Aisne (d\\xe9partement)'</td>\n",
              "      <td>POLYGON ((3.48175 48.86640, 3.48647 48.85768, ...</td>\n",
              "      <td>02</td>\n",
              "      <td>38</td>\n",
              "    </tr>\n",
              "    <tr>\n",
              "      <th>2</th>\n",
              "      <td>03</td>\n",
              "      <td>Allier</td>\n",
              "      <td>FR721</td>\n",
              "      <td>b'fr:Allier (d\\xe9partement)'</td>\n",
              "      <td>POLYGON ((2.38613 46.33196, 2.38407 46.33112, ...</td>\n",
              "      <td>03</td>\n",
              "      <td>28</td>\n",
              "    </tr>\n",
              "    <tr>\n",
              "      <th>3</th>\n",
              "      <td>04</td>\n",
              "      <td>Alpes-de-Haute-Provence</td>\n",
              "      <td>FR821</td>\n",
              "      <td>fr:Alpes-de-Haute-Provence</td>\n",
              "      <td>POLYGON ((6.66579 43.83120, 6.67673 43.83178, ...</td>\n",
              "      <td>04</td>\n",
              "      <td>6</td>\n",
              "    </tr>\n",
              "    <tr>\n",
              "      <th>4</th>\n",
              "      <td>05</td>\n",
              "      <td>Hautes-Alpes</td>\n",
              "      <td>FR822</td>\n",
              "      <td>fr:Hautes-Alpes</td>\n",
              "      <td>POLYGON ((6.24158 44.44686, 6.24411 44.44693, ...</td>\n",
              "      <td>05</td>\n",
              "      <td>10</td>\n",
              "    </tr>\n",
              "    <tr>\n",
              "      <th>...</th>\n",
              "      <td>...</td>\n",
              "      <td>...</td>\n",
              "      <td>...</td>\n",
              "      <td>...</td>\n",
              "      <td>...</td>\n",
              "      <td>...</td>\n",
              "      <td>...</td>\n",
              "    </tr>\n",
              "    <tr>\n",
              "      <th>88</th>\n",
              "      <td>91</td>\n",
              "      <td>Essonne</td>\n",
              "      <td>FR104</td>\n",
              "      <td>b'fr:Essonne (d\\xe9partement)'</td>\n",
              "      <td>POLYGON ((2.39233 48.33593, 2.39427 48.33263, ...</td>\n",
              "      <td>91</td>\n",
              "      <td>75</td>\n",
              "    </tr>\n",
              "    <tr>\n",
              "      <th>89</th>\n",
              "      <td>92</td>\n",
              "      <td>Hauts-de-Seine</td>\n",
              "      <td>FR105</td>\n",
              "      <td>fr:Hauts-de-Seine</td>\n",
              "      <td>POLYGON ((2.31993 48.77075, 2.31588 48.76670, ...</td>\n",
              "      <td>92</td>\n",
              "      <td>142</td>\n",
              "    </tr>\n",
              "    <tr>\n",
              "      <th>90</th>\n",
              "      <td>93</td>\n",
              "      <td>Seine-Saint-Denis</td>\n",
              "      <td>FR106</td>\n",
              "      <td>fr:Seine-Saint-Denis</td>\n",
              "      <td>POLYGON ((2.41899 48.84939, 2.41636 48.84924, ...</td>\n",
              "      <td>93</td>\n",
              "      <td>48</td>\n",
              "    </tr>\n",
              "    <tr>\n",
              "      <th>91</th>\n",
              "      <td>94</td>\n",
              "      <td>Val-de-Marne</td>\n",
              "      <td>FR107</td>\n",
              "      <td>fr:Val-de-Marne</td>\n",
              "      <td>POLYGON ((2.41450 48.71780, 2.41320 48.71868, ...</td>\n",
              "      <td>94</td>\n",
              "      <td>102</td>\n",
              "    </tr>\n",
              "    <tr>\n",
              "      <th>92</th>\n",
              "      <td>95</td>\n",
              "      <td>Val-d'Oise</td>\n",
              "      <td>FR108</td>\n",
              "      <td>fr:Val-d'Oise</td>\n",
              "      <td>POLYGON ((1.79674 49.07196, 1.79991 49.06425, ...</td>\n",
              "      <td>95</td>\n",
              "      <td>79</td>\n",
              "    </tr>\n",
              "  </tbody>\n",
              "</table>\n",
              "<p>93 rows × 7 columns</p>\n",
              "</div>"
            ],
            "text/plain": [
              "   code_insee                      nom  ... dpt nombre\n",
              "0          01                      Ain  ...  01     37\n",
              "1          02                    Aisne  ...  02     38\n",
              "2          03                   Allier  ...  03     28\n",
              "3          04  Alpes-de-Haute-Provence  ...  04      6\n",
              "4          05             Hautes-Alpes  ...  05     10\n",
              "..        ...                      ...  ...  ..    ...\n",
              "88         91                  Essonne  ...  91     75\n",
              "89         92           Hauts-de-Seine  ...  92    142\n",
              "90         93        Seine-Saint-Denis  ...  93     48\n",
              "91         94             Val-de-Marne  ...  94    102\n",
              "92         95               Val-d'Oise  ...  95     79\n",
              "\n",
              "[93 rows x 7 columns]"
            ]
          },
          "metadata": {
            "tags": []
          },
          "execution_count": 44
        }
      ]
    },
    {
      "cell_type": "code",
      "metadata": {
        "id": "bJS5S6eqOJnZ",
        "outputId": "ba3bddb7-d090-44ba-9639-2cec8b877a0b",
        "colab": {
          "base_uri": "https://localhost:8080/",
          "height": 391
        }
      },
      "source": [
        "fig, ax = plt.subplots(1, figsize=(8, 6))\n",
        "merged_emma.plot(column=\"nombre\",   ax=ax, linewidth=0.3,edgecolor=\"0.8\",legend=True,legend_kwds\n",
        "            ={\"label\": \"Number of Emma by Departement\"})"
      ],
      "execution_count": 45,
      "outputs": [
        {
          "output_type": "execute_result",
          "data": {
            "text/plain": [
              "<matplotlib.axes._subplots.AxesSubplot at 0x7f8806e10da0>"
            ]
          },
          "metadata": {
            "tags": []
          },
          "execution_count": 45
        },
        {
          "output_type": "display_data",
          "data": {
            "image/png": "[encoded data removed]",
            "text/plain": [
              "<Figure size 576x432 with 2 Axes>"
            ]
          },
          "metadata": {
            "tags": [],
            "needs_background": "light"
          }
        }
      ]
    },
    {
      "cell_type": "markdown",
      "metadata": {
        "id": "5qGYCeprOYGQ"
      },
      "source": [
        "# Question 4\n"
      ]
    },
    {
      "cell_type": "code",
      "metadata": {
        "id": "H-m2LMvJOb0n",
        "outputId": "0f6d00e3-aedd-41f3-a10d-2c9cad702d7f",
        "colab": {
          "base_uri": "https://localhost:8080/",
          "height": 402
        }
      },
      "source": [
        "dpt_emma.nombre = (dpt_emma.nombre * 1000)/department_pop.PTOT\n",
        "dpt_emma"
      ],
      "execution_count": 46,
      "outputs": [
        {
          "output_type": "execute_result",
          "data": {
            "text/html": [
              "<div>\n",
              "<style scoped>\n",
              "    .dataframe tbody tr th:only-of-type {\n",
              "        vertical-align: middle;\n",
              "    }\n",
              "\n",
              "    .dataframe tbody tr th {\n",
              "        vertical-align: top;\n",
              "    }\n",
              "\n",
              "    .dataframe thead th {\n",
              "        text-align: right;\n",
              "    }\n",
              "</style>\n",
              "<table border=\"1\" class=\"dataframe\">\n",
              "  <thead>\n",
              "    <tr style=\"text-align: right;\">\n",
              "      <th></th>\n",
              "      <th>dpt</th>\n",
              "      <th>nombre</th>\n",
              "      <th>code_insee</th>\n",
              "    </tr>\n",
              "  </thead>\n",
              "  <tbody>\n",
              "    <tr>\n",
              "      <th>0</th>\n",
              "      <td>01</td>\n",
              "      <td>0.056130</td>\n",
              "      <td>01</td>\n",
              "    </tr>\n",
              "    <tr>\n",
              "      <th>1</th>\n",
              "      <td>02</td>\n",
              "      <td>0.069530</td>\n",
              "      <td>02</td>\n",
              "    </tr>\n",
              "    <tr>\n",
              "      <th>2</th>\n",
              "      <td>03</td>\n",
              "      <td>0.080684</td>\n",
              "      <td>03</td>\n",
              "    </tr>\n",
              "    <tr>\n",
              "      <th>3</th>\n",
              "      <td>04</td>\n",
              "      <td>0.035633</td>\n",
              "      <td>04</td>\n",
              "    </tr>\n",
              "    <tr>\n",
              "      <th>4</th>\n",
              "      <td>05</td>\n",
              "      <td>0.068548</td>\n",
              "      <td>05</td>\n",
              "    </tr>\n",
              "    <tr>\n",
              "      <th>...</th>\n",
              "      <td>...</td>\n",
              "      <td>...</td>\n",
              "      <td>...</td>\n",
              "    </tr>\n",
              "    <tr>\n",
              "      <th>93</th>\n",
              "      <td>95</td>\n",
              "      <td>0.048462</td>\n",
              "      <td>95</td>\n",
              "    </tr>\n",
              "    <tr>\n",
              "      <th>94</th>\n",
              "      <td>971</td>\n",
              "      <td>0.012169</td>\n",
              "      <td>971</td>\n",
              "    </tr>\n",
              "    <tr>\n",
              "      <th>95</th>\n",
              "      <td>972</td>\n",
              "      <td>0.008876</td>\n",
              "      <td>972</td>\n",
              "    </tr>\n",
              "    <tr>\n",
              "      <th>96</th>\n",
              "      <td>973</td>\n",
              "      <td>0.027767</td>\n",
              "      <td>973</td>\n",
              "    </tr>\n",
              "    <tr>\n",
              "      <th>97</th>\n",
              "      <td>974</td>\n",
              "      <td>0.113844</td>\n",
              "      <td>974</td>\n",
              "    </tr>\n",
              "  </tbody>\n",
              "</table>\n",
              "<p>98 rows × 3 columns</p>\n",
              "</div>"
            ],
            "text/plain": [
              "    dpt    nombre code_insee\n",
              "0    01  0.056130         01\n",
              "1    02  0.069530         02\n",
              "2    03  0.080684         03\n",
              "3    04  0.035633         04\n",
              "4    05  0.068548         05\n",
              "..  ...       ...        ...\n",
              "93   95  0.048462         95\n",
              "94  971  0.012169        971\n",
              "95  972  0.008876        972\n",
              "96  973  0.027767        973\n",
              "97  974  0.113844        974\n",
              "\n",
              "[98 rows x 3 columns]"
            ]
          },
          "metadata": {
            "tags": []
          },
          "execution_count": 46
        }
      ]
    },
    {
      "cell_type": "code",
      "metadata": {
        "id": "SAi1cfmAPEys",
        "outputId": "9f3bcbc5-4ddb-496a-92db-d09d9ee0baf4",
        "colab": {
          "base_uri": "https://localhost:8080/",
          "height": 402
        }
      },
      "source": [
        "merged_emma_w = map_df.merge(dpt_emma, on='code_insee')\n",
        "\n",
        "merged_emma_w.head()\n",
        "\n",
        "merged_emma_w"
      ],
      "execution_count": 47,
      "outputs": [
        {
          "output_type": "execute_result",
          "data": {
            "text/html": [
              "<div>\n",
              "<style scoped>\n",
              "    .dataframe tbody tr th:only-of-type {\n",
              "        vertical-align: middle;\n",
              "    }\n",
              "\n",
              "    .dataframe tbody tr th {\n",
              "        vertical-align: top;\n",
              "    }\n",
              "\n",
              "    .dataframe thead th {\n",
              "        text-align: right;\n",
              "    }\n",
              "</style>\n",
              "<table border=\"1\" class=\"dataframe\">\n",
              "  <thead>\n",
              "    <tr style=\"text-align: right;\">\n",
              "      <th></th>\n",
              "      <th>code_insee</th>\n",
              "      <th>nom</th>\n",
              "      <th>nuts3</th>\n",
              "      <th>wikipedia</th>\n",
              "      <th>geometry</th>\n",
              "      <th>dpt</th>\n",
              "      <th>nombre</th>\n",
              "    </tr>\n",
              "  </thead>\n",
              "  <tbody>\n",
              "    <tr>\n",
              "      <th>0</th>\n",
              "      <td>01</td>\n",
              "      <td>Ain</td>\n",
              "      <td>FR711</td>\n",
              "      <td>b'fr:Ain (d\\xe9partement)'</td>\n",
              "      <td>POLYGON ((5.25559 45.78459, 5.23987 45.77758, ...</td>\n",
              "      <td>01</td>\n",
              "      <td>0.056130</td>\n",
              "    </tr>\n",
              "    <tr>\n",
              "      <th>1</th>\n",
              "      <td>02</td>\n",
              "      <td>Aisne</td>\n",
              "      <td>FR221</td>\n",
              "      <td>b'fr:Aisne (d\\xe9partement)'</td>\n",
              "      <td>POLYGON ((3.48175 48.86640, 3.48647 48.85768, ...</td>\n",
              "      <td>02</td>\n",
              "      <td>0.069530</td>\n",
              "    </tr>\n",
              "    <tr>\n",
              "      <th>2</th>\n",
              "      <td>03</td>\n",
              "      <td>Allier</td>\n",
              "      <td>FR721</td>\n",
              "      <td>b'fr:Allier (d\\xe9partement)'</td>\n",
              "      <td>POLYGON ((2.38613 46.33196, 2.38407 46.33112, ...</td>\n",
              "      <td>03</td>\n",
              "      <td>0.080684</td>\n",
              "    </tr>\n",
              "    <tr>\n",
              "      <th>3</th>\n",
              "      <td>04</td>\n",
              "      <td>Alpes-de-Haute-Provence</td>\n",
              "      <td>FR821</td>\n",
              "      <td>fr:Alpes-de-Haute-Provence</td>\n",
              "      <td>POLYGON ((6.66579 43.83120, 6.67673 43.83178, ...</td>\n",
              "      <td>04</td>\n",
              "      <td>0.035633</td>\n",
              "    </tr>\n",
              "    <tr>\n",
              "      <th>4</th>\n",
              "      <td>05</td>\n",
              "      <td>Hautes-Alpes</td>\n",
              "      <td>FR822</td>\n",
              "      <td>fr:Hautes-Alpes</td>\n",
              "      <td>POLYGON ((6.24158 44.44686, 6.24411 44.44693, ...</td>\n",
              "      <td>05</td>\n",
              "      <td>0.068548</td>\n",
              "    </tr>\n",
              "    <tr>\n",
              "      <th>...</th>\n",
              "      <td>...</td>\n",
              "      <td>...</td>\n",
              "      <td>...</td>\n",
              "      <td>...</td>\n",
              "      <td>...</td>\n",
              "      <td>...</td>\n",
              "      <td>...</td>\n",
              "    </tr>\n",
              "    <tr>\n",
              "      <th>88</th>\n",
              "      <td>91</td>\n",
              "      <td>Essonne</td>\n",
              "      <td>FR104</td>\n",
              "      <td>b'fr:Essonne (d\\xe9partement)'</td>\n",
              "      <td>POLYGON ((2.39233 48.33593, 2.39427 48.33263, ...</td>\n",
              "      <td>91</td>\n",
              "      <td>0.216199</td>\n",
              "    </tr>\n",
              "    <tr>\n",
              "      <th>89</th>\n",
              "      <td>92</td>\n",
              "      <td>Hauts-de-Seine</td>\n",
              "      <td>FR105</td>\n",
              "      <td>fr:Hauts-de-Seine</td>\n",
              "      <td>POLYGON ((2.31993 48.77075, 2.31588 48.76670, ...</td>\n",
              "      <td>92</td>\n",
              "      <td>0.975007</td>\n",
              "    </tr>\n",
              "    <tr>\n",
              "      <th>90</th>\n",
              "      <td>93</td>\n",
              "      <td>Seine-Saint-Denis</td>\n",
              "      <td>FR106</td>\n",
              "      <td>fr:Seine-Saint-Denis</td>\n",
              "      <td>POLYGON ((2.41899 48.84939, 2.41636 48.84924, ...</td>\n",
              "      <td>93</td>\n",
              "      <td>0.036624</td>\n",
              "    </tr>\n",
              "    <tr>\n",
              "      <th>91</th>\n",
              "      <td>94</td>\n",
              "      <td>Val-de-Marne</td>\n",
              "      <td>FR107</td>\n",
              "      <td>fr:Val-de-Marne</td>\n",
              "      <td>POLYGON ((2.41450 48.71780, 2.41320 48.71868, ...</td>\n",
              "      <td>94</td>\n",
              "      <td>0.062734</td>\n",
              "    </tr>\n",
              "    <tr>\n",
              "      <th>92</th>\n",
              "      <td>95</td>\n",
              "      <td>Val-d'Oise</td>\n",
              "      <td>FR108</td>\n",
              "      <td>fr:Val-d'Oise</td>\n",
              "      <td>POLYGON ((1.79674 49.07196, 1.79991 49.06425, ...</td>\n",
              "      <td>95</td>\n",
              "      <td>0.048462</td>\n",
              "    </tr>\n",
              "  </tbody>\n",
              "</table>\n",
              "<p>93 rows × 7 columns</p>\n",
              "</div>"
            ],
            "text/plain": [
              "   code_insee                      nom  ... dpt    nombre\n",
              "0          01                      Ain  ...  01  0.056130\n",
              "1          02                    Aisne  ...  02  0.069530\n",
              "2          03                   Allier  ...  03  0.080684\n",
              "3          04  Alpes-de-Haute-Provence  ...  04  0.035633\n",
              "4          05             Hautes-Alpes  ...  05  0.068548\n",
              "..        ...                      ...  ...  ..       ...\n",
              "88         91                  Essonne  ...  91  0.216199\n",
              "89         92           Hauts-de-Seine  ...  92  0.975007\n",
              "90         93        Seine-Saint-Denis  ...  93  0.036624\n",
              "91         94             Val-de-Marne  ...  94  0.062734\n",
              "92         95               Val-d'Oise  ...  95  0.048462\n",
              "\n",
              "[93 rows x 7 columns]"
            ]
          },
          "metadata": {
            "tags": []
          },
          "execution_count": 47
        }
      ]
    },
    {
      "cell_type": "code",
      "metadata": {
        "id": "sl8inkAARdJB",
        "outputId": "40b91218-eb6e-417b-d9a6-50f2a649ec44",
        "colab": {
          "base_uri": "https://localhost:8080/",
          "height": 391
        }
      },
      "source": [
        "fig, ax = plt.subplots(1, figsize=(8, 6))\n",
        "merged_emma_w.plot(column=\"nombre\",   ax=ax, linewidth=0.3,edgecolor=\"0.8\",legend=True,legend_kwds\n",
        "            ={\"label\": \"Number of Emma by Departement weighted\"})"
      ],
      "execution_count": 48,
      "outputs": [
        {
          "output_type": "execute_result",
          "data": {
            "text/plain": [
              "<matplotlib.axes._subplots.AxesSubplot at 0x7f880523c710>"
            ]
          },
          "metadata": {
            "tags": []
          },
          "execution_count": 48
        },
        {
          "output_type": "display_data",
          "data": {
            "image/png": "[encoded data removed]",
            "text/plain": [
              "<Figure size 576x432 with 2 Axes>"
            ]
          },
          "metadata": {
            "tags": [],
            "needs_background": "light"
          }
        }
      ]
    }
  ]
}